{
 "cells": [
  {
   "cell_type": "markdown",
   "metadata": {},
   "source": [
    "# Chapter 11 - Node-Based Data Structures"
   ]
  },
  {
   "cell_type": "markdown",
   "metadata": {},
   "source": [
    "## Linked Lists"
   ]
  },
  {
   "attachments": {},
   "cell_type": "markdown",
   "metadata": {},
   "source": [
    "<img src=\"imgs/linked_lists_Part1.png\">"
   ]
  },
  {
   "cell_type": "markdown",
   "metadata": {},
   "source": [
    "## Implementing a Linked List"
   ]
  },
  {
   "cell_type": "code",
   "execution_count": 1,
   "metadata": {},
   "outputs": [],
   "source": [
    "class Node:\n",
    "    def __init__(self, init_data):\n",
    "        self.data = init_data\n",
    "        self.next = None\n",
    "    \n",
    "    def get_node_data(self):\n",
    "        return self.data\n",
    "    \n",
    "    def get_next_node(self):\n",
    "        return self.next\n",
    "    \n",
    "    def set_node_data(self, new_data):\n",
    "        self.data = new_data\n",
    "    \n",
    "    def set_next_node(self, new_next):\n",
    "        self.next = new_next"
   ]
  },
  {
   "cell_type": "code",
   "execution_count": 2,
   "metadata": {},
   "outputs": [],
   "source": [
    "node_1 = Node(\"once\")"
   ]
  },
  {
   "cell_type": "code",
   "execution_count": 3,
   "metadata": {},
   "outputs": [
    {
     "data": {
      "text/plain": [
       "'once'"
      ]
     },
     "execution_count": 3,
     "metadata": {},
     "output_type": "execute_result"
    }
   ],
   "source": [
    "node_1.get_node_data()"
   ]
  },
  {
   "cell_type": "code",
   "execution_count": 4,
   "metadata": {},
   "outputs": [],
   "source": [
    "node_2 = Node(\"upon\")"
   ]
  },
  {
   "cell_type": "code",
   "execution_count": 5,
   "metadata": {},
   "outputs": [],
   "source": [
    "node_1.set_next_node(node_2)"
   ]
  },
  {
   "cell_type": "code",
   "execution_count": 6,
   "metadata": {},
   "outputs": [],
   "source": [
    "node_3 = Node(\"a\")"
   ]
  },
  {
   "cell_type": "code",
   "execution_count": 7,
   "metadata": {},
   "outputs": [],
   "source": [
    "node_2.set_next_node(node_3)"
   ]
  },
  {
   "cell_type": "code",
   "execution_count": 8,
   "metadata": {},
   "outputs": [],
   "source": [
    "node_4 = Node(\"time\")"
   ]
  },
  {
   "cell_type": "code",
   "execution_count": 9,
   "metadata": {},
   "outputs": [],
   "source": [
    "node_3.set_next_node(node_4)"
   ]
  },
  {
   "cell_type": "code",
   "execution_count": 10,
   "metadata": {},
   "outputs": [],
   "source": [
    "class LinkedList:\n",
    "    def __init__(self, init_node):\n",
    "        self.node = init_node"
   ]
  },
  {
   "cell_type": "code",
   "execution_count": 11,
   "metadata": {},
   "outputs": [],
   "source": [
    "linked_list = LinkedList(node_1)"
   ]
  },
  {
   "cell_type": "markdown",
   "metadata": {},
   "source": [
    "## Reading"
   ]
  },
  {
   "cell_type": "code",
   "execution_count": 12,
   "metadata": {},
   "outputs": [],
   "source": [
    "class LinkedList:\n",
    "    def __init__(self, init_node):\n",
    "        self.node = init_node\n",
    "    \n",
    "    # Reading\n",
    "    # read a node's data at a given index\n",
    "    def read(self, index):\n",
    "        # we begin at the first node of the list\n",
    "        current_node = self.node\n",
    "        current_index = 0\n",
    "        \n",
    "        while current_index < index:\n",
    "            # we keep following the links of each node until\n",
    "            # we get to the index we're looking for\n",
    "            current_node = current_node.get_next_node()\n",
    "            current_index = current_index + 1\n",
    "            \n",
    "            # if we're past the end of the list, that means\n",
    "            # the value can't be found in the list\n",
    "            if current_node == None:\n",
    "                return None\n",
    "        \n",
    "        return current_node.get_node_data()"
   ]
  },
  {
   "cell_type": "code",
   "execution_count": 13,
   "metadata": {},
   "outputs": [],
   "source": [
    "linked_list = LinkedList(node_1)"
   ]
  },
  {
   "cell_type": "code",
   "execution_count": 14,
   "metadata": {},
   "outputs": [
    {
     "data": {
      "text/plain": [
       "'once'"
      ]
     },
     "execution_count": 14,
     "metadata": {},
     "output_type": "execute_result"
    }
   ],
   "source": [
    "linked_list.read(0)"
   ]
  },
  {
   "cell_type": "code",
   "execution_count": 15,
   "metadata": {},
   "outputs": [
    {
     "data": {
      "text/plain": [
       "'upon'"
      ]
     },
     "execution_count": 15,
     "metadata": {},
     "output_type": "execute_result"
    }
   ],
   "source": [
    "linked_list.read(1)"
   ]
  },
  {
   "cell_type": "code",
   "execution_count": 16,
   "metadata": {},
   "outputs": [
    {
     "data": {
      "text/plain": [
       "'a'"
      ]
     },
     "execution_count": 16,
     "metadata": {},
     "output_type": "execute_result"
    }
   ],
   "source": [
    "linked_list.read(2)"
   ]
  },
  {
   "cell_type": "code",
   "execution_count": 17,
   "metadata": {},
   "outputs": [
    {
     "data": {
      "text/plain": [
       "'time'"
      ]
     },
     "execution_count": 17,
     "metadata": {},
     "output_type": "execute_result"
    }
   ],
   "source": [
    "linked_list.read(3)"
   ]
  },
  {
   "cell_type": "code",
   "execution_count": 18,
   "metadata": {},
   "outputs": [],
   "source": [
    "linked_list.read(4)"
   ]
  },
  {
   "cell_type": "code",
   "execution_count": 19,
   "metadata": {},
   "outputs": [
    {
     "name": "stdout",
     "output_type": "stream",
     "text": [
      "None\n"
     ]
    }
   ],
   "source": [
    "print(linked_list.read(4))"
   ]
  },
  {
   "cell_type": "markdown",
   "metadata": {},
   "source": [
    "Since we have to move over each node in the linked list one at a time in order to read data from a linked list, reading a linked list has an efficiency of $O(N)$.\n",
    "\n",
    "Arrays on the other hand can read with $O(1)$ efficiency because the computer can go write to the data via the array's index."
   ]
  },
  {
   "cell_type": "markdown",
   "metadata": {},
   "source": [
    "## Searching"
   ]
  },
  {
   "cell_type": "markdown",
   "metadata": {},
   "source": [
    "Searching is looking for a particular piece of data within the list and getting its index. With both arrays and linked lists, the program needs to start at the first cell and look through each and every cell until it finds the value it's searching for. The efficiency of searching is $O(N)$."
   ]
  },
  {
   "cell_type": "code",
   "execution_count": 20,
   "metadata": {},
   "outputs": [],
   "source": [
    "class LinkedList:\n",
    "    def __init__(self, init_node):\n",
    "        self.node = init_node\n",
    "    \n",
    "    # Reading\n",
    "    # read a node's data at a given index\n",
    "    def read(self, index):\n",
    "        # we begin at the first node of the list\n",
    "        current_node = self.node\n",
    "        current_index = 0\n",
    "        \n",
    "        while current_index < index:\n",
    "            # we keep following the links of each node until\n",
    "            # we get to the index we're looking for\n",
    "            current_node = current_node.get_next_node()\n",
    "            current_index = current_index + 1\n",
    "            \n",
    "            # if we're past the end of the list, that means\n",
    "            # the value can't be found in the list\n",
    "            if current_node == None:\n",
    "                return None\n",
    "        \n",
    "        return current_node.get_node_data()\n",
    "    \n",
    "    # Searching\n",
    "    # search for piece of data and return its index\n",
    "    def index_of(self, value):\n",
    "        # we begin at the first node of the list\n",
    "        current_node = self.node\n",
    "        current_index = 0\n",
    "        \n",
    "        while current_node != None:\n",
    "            # if we find the data we're searching, we return it\n",
    "            if current_node.data == value:\n",
    "                return current_index\n",
    "            # otherwise move on to the next node\n",
    "            current_node = current_node.get_next_node()\n",
    "            current_index = current_index + 1\n",
    "        \n",
    "        # if we get through the entire list without finding\n",
    "        # the data, return None\n",
    "        return None"
   ]
  },
  {
   "cell_type": "code",
   "execution_count": 21,
   "metadata": {},
   "outputs": [],
   "source": [
    "linked_list = LinkedList(node_1)"
   ]
  },
  {
   "cell_type": "code",
   "execution_count": 22,
   "metadata": {},
   "outputs": [
    {
     "data": {
      "text/plain": [
       "'once'"
      ]
     },
     "execution_count": 22,
     "metadata": {},
     "output_type": "execute_result"
    }
   ],
   "source": [
    "linked_list.read(0)"
   ]
  },
  {
   "cell_type": "code",
   "execution_count": 23,
   "metadata": {},
   "outputs": [
    {
     "data": {
      "text/plain": [
       "0"
      ]
     },
     "execution_count": 23,
     "metadata": {},
     "output_type": "execute_result"
    }
   ],
   "source": [
    "linked_list.index_of('once')"
   ]
  },
  {
   "cell_type": "code",
   "execution_count": 24,
   "metadata": {},
   "outputs": [
    {
     "data": {
      "text/plain": [
       "1"
      ]
     },
     "execution_count": 24,
     "metadata": {},
     "output_type": "execute_result"
    }
   ],
   "source": [
    "linked_list.index_of('upon')"
   ]
  },
  {
   "cell_type": "code",
   "execution_count": 25,
   "metadata": {},
   "outputs": [
    {
     "data": {
      "text/plain": [
       "2"
      ]
     },
     "execution_count": 25,
     "metadata": {},
     "output_type": "execute_result"
    }
   ],
   "source": [
    "linked_list.index_of('a')"
   ]
  },
  {
   "cell_type": "code",
   "execution_count": 26,
   "metadata": {},
   "outputs": [
    {
     "data": {
      "text/plain": [
       "3"
      ]
     },
     "execution_count": 26,
     "metadata": {},
     "output_type": "execute_result"
    }
   ],
   "source": [
    "linked_list.index_of('time')"
   ]
  },
  {
   "cell_type": "code",
   "execution_count": 27,
   "metadata": {},
   "outputs": [],
   "source": [
    "linked_list.index_of('McGillicuddy')"
   ]
  },
  {
   "cell_type": "code",
   "execution_count": 28,
   "metadata": {},
   "outputs": [
    {
     "name": "stdout",
     "output_type": "stream",
     "text": [
      "None\n"
     ]
    }
   ],
   "source": [
    "print(linked_list.index_of('McGillicuddy'))"
   ]
  },
  {
   "cell_type": "markdown",
   "metadata": {},
   "source": [
    "## Insertion"
   ]
  },
  {
   "attachments": {},
   "cell_type": "markdown",
   "metadata": {},
   "source": [
    "Insertion is simply a matter of modifying the pointers along a linked list.\n",
    "\n",
    "Here's an existing linked list:\n",
    "<img src=\"imgs/linked_lists_Part4.png\">\n",
    "\n",
    "Here's the same linked list after a new node's been inserted.\n",
    "<img src=\"imgs/linked_lists_Part5.png\">"
   ]
  },
  {
   "cell_type": "markdown",
   "metadata": {},
   "source": [
    "For insertion, the best- and worst-case scenarios for arrays and linked lists are the opposite of each other."
   ]
  },
  {
   "cell_type": "markdown",
   "metadata": {},
   "source": [
    "| Scenario | Array | Linked List |\n",
    "|---|---|---|\n",
    "| Insert at beginning | Worst case | Best case |\n",
    "| Insert in middle | Average case | Average case |\n",
    "| Insert at end | Best case | Worst case |"
   ]
  },
  {
   "cell_type": "code",
   "execution_count": 29,
   "metadata": {},
   "outputs": [],
   "source": [
    "class LinkedList:\n",
    "    def __init__(self, init_node):\n",
    "        self.node = init_node\n",
    "    \n",
    "    # Reading\n",
    "    # read a node's data at a given index\n",
    "    def read(self, index):\n",
    "        # we begin at the first node of the list\n",
    "        current_node = self.node\n",
    "        current_index = 0\n",
    "        \n",
    "        while current_index < index:\n",
    "            # we keep following the links of each node until\n",
    "            # we get to the index we're looking for\n",
    "            current_node = current_node.get_next_node()\n",
    "            current_index = current_index + 1\n",
    "            \n",
    "            # if we're past the end of the list, that means\n",
    "            # the value can't be found in the list\n",
    "            if current_node == None:\n",
    "                return None\n",
    "        \n",
    "        return current_node.get_node_data()\n",
    "    \n",
    "    # Searching\n",
    "    # search for piece of data and return its index\n",
    "    def index_of(self, value):\n",
    "        # we begin at the first node of the list\n",
    "        current_node = self.node\n",
    "        current_index = 0\n",
    "        \n",
    "        while current_node != None:\n",
    "            # if we find the data we're searching, we return it\n",
    "            if current_node.data == value:\n",
    "                return current_index\n",
    "            # otherwise move on to the next node\n",
    "            current_node = current_node.get_next_node()\n",
    "            current_index = current_index + 1\n",
    "        \n",
    "        # if we get through the entire list without finding\n",
    "        # the data, return None\n",
    "        return None\n",
    "    \n",
    "    # Insertion\n",
    "    # insert a piece of data and the given index\n",
    "    def insert_at_index(self, index, value):\n",
    "        first_node = self.node\n",
    "        \n",
    "        # create a new node\n",
    "        new_node = Node(value)\n",
    "        \n",
    "        # if we're inserting at beginning of the list:\n",
    "        if index == 0:\n",
    "            # point the new node to the the previous first node\n",
    "            new_node.set_next_node(first_node)\n",
    "            # set the new node to the LinkedList's first node\n",
    "            self.node.set_next_node(new_node)\n",
    "        else:\n",
    "            current_node = first_node\n",
    "            current_index = 0\n",
    "        \n",
    "        # First, we find the index immediately before where\n",
    "        # the new node will go\n",
    "        while current_index < (index - 1):\n",
    "            current_node = current_node.get_next_node()\n",
    "            current_index = current_index + 1\n",
    "        \n",
    "        # we now have the new node link to the next node\n",
    "        new_node.set_next_node(current_node.get_next_node())\n",
    "        \n",
    "        # we modify the link of the previous node\n",
    "        # to point to our new node\n",
    "        current_node.set_next_node(new_node)"
   ]
  },
  {
   "cell_type": "code",
   "execution_count": 30,
   "metadata": {},
   "outputs": [],
   "source": [
    "linked_list = LinkedList(node_1)"
   ]
  },
  {
   "cell_type": "code",
   "execution_count": 31,
   "metadata": {},
   "outputs": [
    {
     "data": {
      "text/plain": [
       "'once'"
      ]
     },
     "execution_count": 31,
     "metadata": {},
     "output_type": "execute_result"
    }
   ],
   "source": [
    "linked_list.read(0)"
   ]
  },
  {
   "cell_type": "code",
   "execution_count": 32,
   "metadata": {},
   "outputs": [
    {
     "data": {
      "text/plain": [
       "'upon'"
      ]
     },
     "execution_count": 32,
     "metadata": {},
     "output_type": "execute_result"
    }
   ],
   "source": [
    "linked_list.read(1)"
   ]
  },
  {
   "cell_type": "code",
   "execution_count": 33,
   "metadata": {},
   "outputs": [
    {
     "data": {
      "text/plain": [
       "'a'"
      ]
     },
     "execution_count": 33,
     "metadata": {},
     "output_type": "execute_result"
    }
   ],
   "source": [
    "linked_list.read(2)"
   ]
  },
  {
   "cell_type": "code",
   "execution_count": 34,
   "metadata": {},
   "outputs": [
    {
     "data": {
      "text/plain": [
       "'time'"
      ]
     },
     "execution_count": 34,
     "metadata": {},
     "output_type": "execute_result"
    }
   ],
   "source": [
    "linked_list.read(3)"
   ]
  },
  {
   "cell_type": "code",
   "execution_count": 35,
   "metadata": {},
   "outputs": [],
   "source": [
    "linked_list.insert_at_index(3, 'golden')"
   ]
  },
  {
   "cell_type": "code",
   "execution_count": 36,
   "metadata": {},
   "outputs": [
    {
     "data": {
      "text/plain": [
       "'once'"
      ]
     },
     "execution_count": 36,
     "metadata": {},
     "output_type": "execute_result"
    }
   ],
   "source": [
    "linked_list.read(0)"
   ]
  },
  {
   "cell_type": "code",
   "execution_count": 37,
   "metadata": {},
   "outputs": [
    {
     "data": {
      "text/plain": [
       "'upon'"
      ]
     },
     "execution_count": 37,
     "metadata": {},
     "output_type": "execute_result"
    }
   ],
   "source": [
    "linked_list.read(1)"
   ]
  },
  {
   "cell_type": "code",
   "execution_count": 38,
   "metadata": {},
   "outputs": [
    {
     "data": {
      "text/plain": [
       "'a'"
      ]
     },
     "execution_count": 38,
     "metadata": {},
     "output_type": "execute_result"
    }
   ],
   "source": [
    "linked_list.read(2)"
   ]
  },
  {
   "cell_type": "code",
   "execution_count": 39,
   "metadata": {},
   "outputs": [
    {
     "data": {
      "text/plain": [
       "'golden'"
      ]
     },
     "execution_count": 39,
     "metadata": {},
     "output_type": "execute_result"
    }
   ],
   "source": [
    "linked_list.read(3)"
   ]
  },
  {
   "cell_type": "code",
   "execution_count": 40,
   "metadata": {},
   "outputs": [
    {
     "data": {
      "text/plain": [
       "'time'"
      ]
     },
     "execution_count": 40,
     "metadata": {},
     "output_type": "execute_result"
    }
   ],
   "source": [
    "linked_list.read(4)"
   ]
  },
  {
   "cell_type": "code",
   "execution_count": 41,
   "metadata": {},
   "outputs": [],
   "source": [
    "linked_list.read(5)"
   ]
  },
  {
   "cell_type": "code",
   "execution_count": 42,
   "metadata": {},
   "outputs": [],
   "source": [
    "class LinkedList:\n",
    "    def __init__(self, init_node):\n",
    "        self.node = init_node\n",
    "    \n",
    "    # Show\n",
    "    # Print every piece of data in the linked list\n",
    "    def show(self):\n",
    "        # initially set the current node to the LL's first node\n",
    "        current_node = self.node\n",
    "        \n",
    "        # as long as the current node isn't None...\n",
    "        while current_node != None:\n",
    "            # print out the node data\n",
    "            print(current_node.get_node_data())\n",
    "            # and set the curent node to the next node\n",
    "            current_node = current_node.get_next_node()\n",
    "    \n",
    "    # Reading\n",
    "    # read a node's data at a given index\n",
    "    def read(self, index):\n",
    "        # we begin at the first node of the list\n",
    "        current_node = self.node\n",
    "        current_index = 0\n",
    "        \n",
    "        while current_index < index:\n",
    "            # we keep following the links of each node until\n",
    "            # we get to the index we're looking for\n",
    "            current_node = current_node.get_next_node()\n",
    "            current_index = current_index + 1\n",
    "            \n",
    "            # if we're past the end of the list, that means\n",
    "            # the value can't be found in the list\n",
    "            if current_node == None:\n",
    "                return None\n",
    "        \n",
    "        return current_node.getData()\n",
    "    \n",
    "    # Searching\n",
    "    # search for piece of data and return its index\n",
    "    def index_of(self, value):\n",
    "        # we begin at the first node of the list\n",
    "        current_node = self.node\n",
    "        current_index = 0\n",
    "        \n",
    "        while current_node != None:\n",
    "            # if we find the data we're searching, we return it\n",
    "            if current_node.data == value:\n",
    "                return current_index\n",
    "            # otherwise move on to the next node\n",
    "            current_node = current_node.get_next_node()\n",
    "            current_index = current_index + 1\n",
    "        \n",
    "        # if we get through the entire list without finding\n",
    "        # the data, return None\n",
    "        return None\n",
    "    \n",
    "    # Insertion\n",
    "    # insert a piece of data and the given index\n",
    "    def insert_at_index(self, index, value):\n",
    "        first_node = self.node\n",
    "        \n",
    "        # create a new node\n",
    "        new_node = Node(value)\n",
    "        \n",
    "        # if we're inserting at beginning of the list:\n",
    "        if index == 0:\n",
    "            # point the new node to the the previous first node\n",
    "            new_node.set_next_node(first_node)\n",
    "            # set the new node to the LinkedList's first node\n",
    "            self.node.set_next_node(new_node)\n",
    "        else:\n",
    "            current_node = first_node\n",
    "            current_index = 0\n",
    "        \n",
    "        # First, we find the index immediately before where\n",
    "        # the new node will go\n",
    "        while current_index < (index - 1):\n",
    "            current_node = current_node.get_next_node()\n",
    "            current_index = current_index + 1\n",
    "        \n",
    "        # we now have the new node link to the next node\n",
    "        new_node.set_next_node(current_node.get_next_node())\n",
    "        \n",
    "        # we modify the link of the previous node\n",
    "        # to point to our new node\n",
    "        current_node.set_next_node(new_node)"
   ]
  },
  {
   "cell_type": "code",
   "execution_count": 43,
   "metadata": {},
   "outputs": [],
   "source": [
    "linked_list = LinkedList(node_1)"
   ]
  },
  {
   "cell_type": "code",
   "execution_count": 44,
   "metadata": {},
   "outputs": [
    {
     "name": "stdout",
     "output_type": "stream",
     "text": [
      "once\n",
      "upon\n",
      "a\n",
      "golden\n",
      "time\n"
     ]
    }
   ],
   "source": [
    "linked_list.show()"
   ]
  },
  {
   "cell_type": "markdown",
   "metadata": {},
   "source": [
    "## Deletion"
   ]
  },
  {
   "cell_type": "markdown",
   "metadata": {},
   "source": [
    "Here's basically what's going one when deleting a node from a linked list:\n",
    "\n",
    "<img src=\"imgs/linked_lists_Part8.png\">\n",
    "\n",
    "Like insertion, performance of deletion in linked lists is the opposite of arrays. For linked lists, deleting the first element takes 1 step, while deleting the last element takes N steps. For arrays, it's the opposite. Deleting from the beginning of an array take N steps, while deleting from the end of an array takes 1 step.\n",
    "\n",
    "| Situation | Array | Linked List |\n",
    "|---|---|---|\n",
    "| Delete at beginning | Worst case | Best case |\n",
    "| Delete from middle | Average case | Average case |\n",
    "| Delete at end | Best case | Worst case |"
   ]
  },
  {
   "cell_type": "code",
   "execution_count": 45,
   "metadata": {},
   "outputs": [],
   "source": [
    "class LinkedList:\n",
    "    def __init__(self, init_node):\n",
    "        self.node = init_node\n",
    "    \n",
    "    # Show\n",
    "    # Print every piece of data in the linked list\n",
    "    def show(self):\n",
    "        # initially set the current node to the LL's first node\n",
    "        current_node = self.node\n",
    "        \n",
    "        # as long as the current node isn't None...\n",
    "        while current_node != None:\n",
    "            # print out the node data\n",
    "            print(current_node.get_node_data())\n",
    "            # and set the curent node to the next node\n",
    "            current_node = current_node.get_next_node()\n",
    "    \n",
    "    # Reading\n",
    "    # read a node's data at a given index\n",
    "    def read(self, index):\n",
    "        # we begin at the first node of the list\n",
    "        current_node = self.node\n",
    "        current_index = 0\n",
    "        \n",
    "        while current_index < index:\n",
    "            # we keep following the links of each node until\n",
    "            # we get to the index we're looking for\n",
    "            current_node = current_node.get_next_node()\n",
    "            current_index = current_index + 1\n",
    "            \n",
    "            # if we're past the end of the list, that means\n",
    "            # the value can't be found in the list\n",
    "            if current_node == None:\n",
    "                return None\n",
    "        \n",
    "        return current_node.get_node_data()\n",
    "    \n",
    "    # Searching\n",
    "    # search for piece of data and return its index\n",
    "    def index_of(self, value):\n",
    "        # we begin at the first node of the list\n",
    "        current_node = self.node\n",
    "        current_index = 0\n",
    "        \n",
    "        while current_node != None:\n",
    "            # if we find the data we're searching, we return it\n",
    "            if current_node.data == value:\n",
    "                return current_index\n",
    "            # otherwise move on to the next node\n",
    "            current_node = current_node.get_next_node()\n",
    "            current_index = current_index + 1\n",
    "        \n",
    "        # if we get through the entire list without finding\n",
    "        # the data, return None\n",
    "        return None\n",
    "    \n",
    "    # Insertion\n",
    "    # insert a piece of data and the given index\n",
    "    def insert_at_index(self, index, value):\n",
    "        first_node = self.node\n",
    "        \n",
    "        # create a new node\n",
    "        new_node = Node(value)\n",
    "        \n",
    "        # if we're inserting at beginning of the list:\n",
    "        if index == 0:\n",
    "            # point the new node to the the previous first node\n",
    "            new_node.set_next_node(first_node)\n",
    "            # set the new node to the LinkedList's first node\n",
    "            self.node.set_next_node(new_node)\n",
    "        else:\n",
    "            current_node = first_node\n",
    "            current_index = 0\n",
    "        \n",
    "        # First, we find the index immediately before where\n",
    "        # the new node will go\n",
    "        while current_index < (index - 1):\n",
    "            current_node = current_node.get_next_node()\n",
    "            current_index = current_index + 1\n",
    "        \n",
    "        # we now have the new node link to the next node\n",
    "        new_node.set_next_node(current_node.get_next_node())\n",
    "        \n",
    "        # we modify the link of the previous node\n",
    "        # to point to our new node\n",
    "        current_node.set_next_node(new_node)\n",
    "    \n",
    "    # Deletion\n",
    "    # delete a piece of data at the given index\n",
    "    def delete_at_index(self, index):    \n",
    "        # if we're to delete the first piece of data\n",
    "        # just move to the next node\n",
    "        if index == 0:\n",
    "            self.node = self.node.get_next_node()\n",
    "        else:\n",
    "            current_node = self.node\n",
    "            current_index = 0\n",
    "        \n",
    "        # Blah\n",
    "        while current_index < index-1:\n",
    "            current_node = current_node.get_next_node()\n",
    "            current_index = current_index + 1\n",
    "        \n",
    "        current_node.set_next_node(\n",
    "            current_node.get_next_node().get_next_node()\n",
    "        )"
   ]
  },
  {
   "cell_type": "code",
   "execution_count": 46,
   "metadata": {},
   "outputs": [],
   "source": [
    "linked_list = LinkedList(node_1)"
   ]
  },
  {
   "cell_type": "code",
   "execution_count": 47,
   "metadata": {},
   "outputs": [
    {
     "data": {
      "text/plain": [
       "'golden'"
      ]
     },
     "execution_count": 47,
     "metadata": {},
     "output_type": "execute_result"
    }
   ],
   "source": [
    "linked_list.read(3)"
   ]
  },
  {
   "cell_type": "code",
   "execution_count": 48,
   "metadata": {},
   "outputs": [
    {
     "data": {
      "text/plain": [
       "3"
      ]
     },
     "execution_count": 48,
     "metadata": {},
     "output_type": "execute_result"
    }
   ],
   "source": [
    "linked_list.index_of('golden')"
   ]
  },
  {
   "cell_type": "code",
   "execution_count": 49,
   "metadata": {},
   "outputs": [
    {
     "name": "stdout",
     "output_type": "stream",
     "text": [
      "once\n",
      "upon\n",
      "a\n",
      "golden\n",
      "time\n"
     ]
    }
   ],
   "source": [
    "linked_list.show()"
   ]
  },
  {
   "cell_type": "code",
   "execution_count": 50,
   "metadata": {},
   "outputs": [],
   "source": [
    "linked_list.delete_at_index(3)"
   ]
  },
  {
   "cell_type": "code",
   "execution_count": 51,
   "metadata": {},
   "outputs": [
    {
     "name": "stdout",
     "output_type": "stream",
     "text": [
      "once\n",
      "upon\n",
      "a\n",
      "time\n"
     ]
    }
   ],
   "source": [
    "linked_list.show()"
   ]
  },
  {
   "cell_type": "markdown",
   "metadata": {},
   "source": [
    "At the end of the day, here's the breakdown comparing arrays with linked lists for (1) reading, (2) searching, (3) insertion, and (4) deletion.\n",
    "\n",
    "| Operation | Array | Linked List |\n",
    "|---|---|---|\n",
    "| Reading | $O(1)$ | $O(N)$ |\n",
    "| Searching | $O(N)$ | $O(N)$ |\n",
    "| Insertion | $O(N)$ ($O(1)$ at end) | $O(N)$ ($O(1)$ at beginning) |\n",
    "| Deletion  | $O(N)$ ($O(1)$ at end) | $O(N)$ ($O(1)$ at beginning) |"
   ]
  },
  {
   "cell_type": "markdown",
   "metadata": {},
   "source": [
    "## Linked Lists in Action"
   ]
  },
  {
   "cell_type": "markdown",
   "metadata": {},
   "source": [
    "If in the table above there's no clear advantage to using a linked list (except that the data in a linked lists can be _**anywhere**_ in memory, not in one big chunk), why use linked lists?\n",
    "\n",
    "\"One case where linked lists shine is when we examine a single list and delete many elements from it.\""
   ]
  },
  {
   "cell_type": "markdown",
   "metadata": {},
   "source": [
    "## Doubly Linked Lists"
   ]
  },
  {
   "cell_type": "markdown",
   "metadata": {},
   "source": [
    "Doubly linked lists make it possible to use a linked list as a queue data structure. A doubly linked list is like a linked list, except that each node has _two_ links &mdash; one that points to the next node, and one that points to the preceding node.\n",
    "\n",
    "Here's a depiction of a doubly linked list:\n",
    "\n",
    "<img src=\"imgs/linked_lists_Part9.png\">"
   ]
  },
  {
   "cell_type": "code",
   "execution_count": 1,
   "metadata": {},
   "outputs": [],
   "source": [
    "class Node:\n",
    "    # initializer\n",
    "    def __init__(self, init_data):\n",
    "        self.data = init_data\n",
    "        self.prev_node = None\n",
    "        self.next_node = None\n",
    "    \n",
    "    # getters\n",
    "    def get_node_data(self):\n",
    "        return self.data\n",
    "    \n",
    "    def get_prev_node(self):\n",
    "        return self.prev_node\n",
    "    \n",
    "    def get_next_node(self):\n",
    "        return self.next_node\n",
    "    \n",
    "    # setters\n",
    "    def set_node_data(self, new_data):\n",
    "        self.data = new_data\n",
    "    \n",
    "    def set_prev_node(self, new_prev_node):\n",
    "        self.prev_node = new_prev_node\n",
    "    \n",
    "    def set_next_node(self, new_next_node):\n",
    "        self.next_node = new_next_node"
   ]
  },
  {
   "cell_type": "code",
   "execution_count": 69,
   "metadata": {},
   "outputs": [],
   "source": [
    "class DoublyLinkedList:\n",
    "    # initializer\n",
    "    def __init__(self, init_first_node, init_last_node):\n",
    "        self.first_node = init_first_node\n",
    "        self.last_node = init_last_node\n",
    "    \n",
    "    def get_first_node(self):\n",
    "        return self.first_node\n",
    "    \n",
    "    def get_last_node(self):\n",
    "        return self.last_node\n",
    "    \n",
    "    def set_first_node(self, new_first_node):\n",
    "        self.first_node = new_first_node\n",
    "    \n",
    "    def set_last_node(self, new_last_node):\n",
    "        self.last_node = new_last_node\n",
    "    \n",
    "    # Show doubly linked list first to last\n",
    "    # Print every piece of data in the linked list \n",
    "    # from 1st node to last\n",
    "    def show_first_to_last(self):\n",
    "        # initially set the current node to the LL's first node\n",
    "        current_node = self.first_node\n",
    "        \n",
    "        # as long as the current node isn't None...\n",
    "        while current_node != self.last_node.get_next_node():\n",
    "            # print out the node data\n",
    "            print(current_node.get_node_data())\n",
    "            # and set the curent node to the next node\n",
    "            current_node = current_node.get_next_node()\n",
    "    \n",
    "    # Show doubly linked list last to first\n",
    "    # Print every piece of data in the linked list\n",
    "    # from last node to first\n",
    "    def show_last_to_first(self):\n",
    "        # initially set the current node to the LL's last node\n",
    "        current_node = self.last_node\n",
    "        \n",
    "        # as long as the current node isn't None...\n",
    "        while current_node != self.first_node.get_prev_node():\n",
    "            # print out the node data\n",
    "            print(current_node.get_node_data())\n",
    "            # and set the curent node to the next node\n",
    "            current_node = current_node.get_prev_node()"
   ]
  },
  {
   "cell_type": "code",
   "execution_count": 70,
   "metadata": {},
   "outputs": [],
   "source": [
    "node_1 = Node('Bob')\n",
    "node_2 = Node('Jill')\n",
    "node_3 = Node('Billy')\n",
    "node_4 = Node('Greg')\n",
    "node_5 = Node('Sue')"
   ]
  },
  {
   "cell_type": "code",
   "execution_count": 71,
   "metadata": {},
   "outputs": [],
   "source": [
    "# node_1 <=> node_2\n",
    "node_1.set_next_node(node_2)\n",
    "node_2.set_prev_node(node_1)\n",
    "# node_2 <=> node_3\n",
    "node_2.set_next_node(node_3)\n",
    "node_3.set_prev_node(node_2)\n",
    "# node_3 <=> node_4\n",
    "node_3.set_next_node(node_4)\n",
    "node_4.set_prev_node(node_3)\n",
    "# node_4 <=> node_5\n",
    "node_4.set_next_node(node_5)\n",
    "node_5.set_prev_node(node_4)"
   ]
  },
  {
   "cell_type": "code",
   "execution_count": 72,
   "metadata": {},
   "outputs": [],
   "source": [
    "d_linked_list = DoublyLinkedList(node_1, node_5)"
   ]
  },
  {
   "cell_type": "code",
   "execution_count": 73,
   "metadata": {},
   "outputs": [
    {
     "name": "stdout",
     "output_type": "stream",
     "text": [
      "Bob\n",
      "Jill\n",
      "Billy\n",
      "Greg\n",
      "Sue\n"
     ]
    }
   ],
   "source": [
    "d_linked_list.show_first_to_last()"
   ]
  },
  {
   "cell_type": "code",
   "execution_count": 74,
   "metadata": {},
   "outputs": [
    {
     "name": "stdout",
     "output_type": "stream",
     "text": [
      "Sue\n",
      "Greg\n",
      "Billy\n",
      "Jill\n",
      "Bob\n"
     ]
    }
   ],
   "source": [
    "d_linked_list.show_last_to_first()"
   ]
  },
  {
   "cell_type": "code",
   "execution_count": 75,
   "metadata": {},
   "outputs": [],
   "source": [
    "d_linked_list = DoublyLinkedList(node_1, node_3)"
   ]
  },
  {
   "cell_type": "code",
   "execution_count": 76,
   "metadata": {},
   "outputs": [
    {
     "name": "stdout",
     "output_type": "stream",
     "text": [
      "Bob\n",
      "Jill\n",
      "Billy\n"
     ]
    }
   ],
   "source": [
    "d_linked_list.show_first_to_last()"
   ]
  },
  {
   "cell_type": "code",
   "execution_count": 77,
   "metadata": {},
   "outputs": [
    {
     "name": "stdout",
     "output_type": "stream",
     "text": [
      "Billy\n",
      "Jill\n",
      "Bob\n"
     ]
    }
   ],
   "source": [
    "d_linked_list.show_last_to_first()"
   ]
  },
  {
   "cell_type": "code",
   "execution_count": 207,
   "metadata": {},
   "outputs": [],
   "source": [
    "class DoublyLinkedList:\n",
    "    # initializer\n",
    "    def __init__(self, \n",
    "                 init_first_node = None, \n",
    "                 init_last_node = None):\n",
    "        self.first_node = init_first_node\n",
    "        self.last_node = init_last_node\n",
    "    \n",
    "    def get_first_node(self):\n",
    "        return self.first_node\n",
    "    \n",
    "    def get_last_node(self):\n",
    "        return self.last_node\n",
    "    \n",
    "    def set_first_node(self, new_first_node):\n",
    "        self.first_node = new_first_node\n",
    "    \n",
    "    def set_last_node(self, new_last_node):\n",
    "        self.last_node = new_last_node\n",
    "    \n",
    "    # Show doubly linked list first to last\n",
    "    # Print every piece of data in the linked list \n",
    "    # from 1st node to last\n",
    "    def show_first_to_last(self):\n",
    "        # if the doubly linked list is empty, return None\n",
    "        if self.size() == 0:\n",
    "            return\n",
    "        \n",
    "        # initially set the current node to the LL's first node\n",
    "        current_node = self.first_node\n",
    "        \n",
    "        # as long as the current node isn't None...\n",
    "        while current_node != self.last_node.get_next_node():\n",
    "            # print out the node data\n",
    "            print(current_node.get_node_data())\n",
    "            # and set the curent node to the next node\n",
    "            current_node = current_node.get_next_node()\n",
    "    \n",
    "    # Show doubly linked list last to first\n",
    "    # Print every piece of data in the linked list\n",
    "    # from last node to first\n",
    "    def show_last_to_first(self):\n",
    "        # if the doubly linked list is empty, return None\n",
    "        if self.size() == 0:\n",
    "            return\n",
    "        \n",
    "        # initially set the current node to the LL's last node\n",
    "        current_node = self.last_node\n",
    "        \n",
    "        # as long as the current node isn't None...\n",
    "        while current_node != self.first_node.get_prev_node():\n",
    "            # print out the node data\n",
    "            print(current_node.get_node_data())\n",
    "            # and set the curent node to the next node\n",
    "            current_node = current_node.get_prev_node()\n",
    "\n",
    "    # Size - how many nodes?\n",
    "    def size(self):\n",
    "        # if there's no first node, the size is zero\n",
    "        if self.first_node == None:\n",
    "            return 0\n",
    "        \n",
    "        # set current_node/_index to initial node & node index\n",
    "        current_index = 0\n",
    "        current_node = self.first_node\n",
    "        \n",
    "        while current_node != None:\n",
    "            current_node = current_node.get_next_node()\n",
    "            current_index = current_index + 1\n",
    "        \n",
    "        return(current_index)\n",
    "    \n",
    "    # Insert data at a given index\n",
    "    def insert_at_end(self, new_node):\n",
    "        \n",
    "        if self.size() == 0:\n",
    "            # print(\"blah\")\n",
    "            self.first_node = new_node\n",
    "            self.last_node = new_node\n",
    "        else:\n",
    "            new_node.set_prev_node(self.last_node)\n",
    "            self.last_node.set_next_node(new_node)\n",
    "            self.last_node = new_node"
   ]
  },
  {
   "cell_type": "code",
   "execution_count": 208,
   "metadata": {},
   "outputs": [],
   "source": [
    "d_linked_list = DoublyLinkedList(node_1, node_5)"
   ]
  },
  {
   "cell_type": "code",
   "execution_count": 209,
   "metadata": {},
   "outputs": [
    {
     "data": {
      "text/plain": [
       "5"
      ]
     },
     "execution_count": 209,
     "metadata": {},
     "output_type": "execute_result"
    }
   ],
   "source": [
    "d_linked_list.size()"
   ]
  },
  {
   "cell_type": "code",
   "execution_count": 210,
   "metadata": {},
   "outputs": [
    {
     "name": "stdout",
     "output_type": "stream",
     "text": [
      "Bob\n",
      "Jill\n",
      "Billy\n",
      "Greg\n",
      "Sue\n"
     ]
    }
   ],
   "source": [
    "d_linked_list.show_first_to_last()"
   ]
  },
  {
   "cell_type": "code",
   "execution_count": 211,
   "metadata": {},
   "outputs": [
    {
     "name": "stdout",
     "output_type": "stream",
     "text": [
      "Sue\n",
      "Greg\n",
      "Billy\n",
      "Jill\n",
      "Bob\n"
     ]
    }
   ],
   "source": [
    "d_linked_list.show_last_to_first()"
   ]
  },
  {
   "cell_type": "code",
   "execution_count": 212,
   "metadata": {},
   "outputs": [],
   "source": [
    "node_a = Node('a')"
   ]
  },
  {
   "cell_type": "code",
   "execution_count": 213,
   "metadata": {},
   "outputs": [],
   "source": [
    "d_linked_list_2 = DoublyLinkedList()"
   ]
  },
  {
   "cell_type": "code",
   "execution_count": 214,
   "metadata": {},
   "outputs": [
    {
     "data": {
      "text/plain": [
       "0"
      ]
     },
     "execution_count": 214,
     "metadata": {},
     "output_type": "execute_result"
    }
   ],
   "source": [
    "d_linked_list_2.size()"
   ]
  },
  {
   "cell_type": "code",
   "execution_count": 215,
   "metadata": {},
   "outputs": [],
   "source": [
    "d_linked_list_2.show_first_to_last()"
   ]
  },
  {
   "cell_type": "code",
   "execution_count": 216,
   "metadata": {},
   "outputs": [],
   "source": [
    "d_linked_list_2.insert_at_end(node_a)"
   ]
  },
  {
   "cell_type": "code",
   "execution_count": 217,
   "metadata": {},
   "outputs": [
    {
     "data": {
      "text/plain": [
       "1"
      ]
     },
     "execution_count": 217,
     "metadata": {},
     "output_type": "execute_result"
    }
   ],
   "source": [
    "d_linked_list_2.size()"
   ]
  },
  {
   "cell_type": "code",
   "execution_count": 218,
   "metadata": {},
   "outputs": [
    {
     "name": "stdout",
     "output_type": "stream",
     "text": [
      "a\n"
     ]
    }
   ],
   "source": [
    "d_linked_list_2.show_first_to_last()"
   ]
  },
  {
   "cell_type": "code",
   "execution_count": 219,
   "metadata": {},
   "outputs": [
    {
     "name": "stdout",
     "output_type": "stream",
     "text": [
      "a\n"
     ]
    }
   ],
   "source": [
    "d_linked_list_2.show_last_to_first()"
   ]
  },
  {
   "cell_type": "code",
   "execution_count": 220,
   "metadata": {},
   "outputs": [],
   "source": [
    "node_b = Node('b')"
   ]
  },
  {
   "cell_type": "code",
   "execution_count": 221,
   "metadata": {},
   "outputs": [],
   "source": [
    "d_linked_list_2.insert_at_end(node_b)"
   ]
  },
  {
   "cell_type": "code",
   "execution_count": 222,
   "metadata": {},
   "outputs": [
    {
     "data": {
      "text/plain": [
       "2"
      ]
     },
     "execution_count": 222,
     "metadata": {},
     "output_type": "execute_result"
    }
   ],
   "source": [
    "d_linked_list_2.size()"
   ]
  },
  {
   "cell_type": "code",
   "execution_count": 223,
   "metadata": {},
   "outputs": [
    {
     "name": "stdout",
     "output_type": "stream",
     "text": [
      "a\n",
      "b\n"
     ]
    }
   ],
   "source": [
    "d_linked_list_2.show_first_to_last()"
   ]
  },
  {
   "cell_type": "code",
   "execution_count": 224,
   "metadata": {},
   "outputs": [
    {
     "name": "stdout",
     "output_type": "stream",
     "text": [
      "b\n",
      "a\n"
     ]
    }
   ],
   "source": [
    "d_linked_list_2.show_last_to_first()"
   ]
  },
  {
   "cell_type": "code",
   "execution_count": 311,
   "metadata": {},
   "outputs": [],
   "source": [
    "class DoublyLinkedList:\n",
    "    # initializer\n",
    "    def __init__(self, \n",
    "                 init_first_node = None, \n",
    "                 init_last_node = None):\n",
    "        self.first_node = init_first_node\n",
    "        self.last_node = init_last_node\n",
    "    \n",
    "    def get_first_node(self):\n",
    "        return self.first_node\n",
    "    \n",
    "    def get_last_node(self):\n",
    "        return self.last_node\n",
    "    \n",
    "    def set_first_node(self, new_first_node):\n",
    "        self.first_node = new_first_node\n",
    "    \n",
    "    def set_last_node(self, new_last_node):\n",
    "        self.last_node = new_last_node\n",
    "    \n",
    "    # Show doubly linked list first to last\n",
    "    # Print every piece of data in the linked list \n",
    "    # from 1st node to last\n",
    "    def show_first_to_last(self):\n",
    "        # if the doubly linked list is empty, return None\n",
    "        if self.size() == 0:\n",
    "            return\n",
    "        \n",
    "        # initially set the current node to the LL's first node\n",
    "        current_node = self.first_node\n",
    "        \n",
    "        # as long as the current node isn't None...\n",
    "        while current_node != self.last_node.get_next_node():\n",
    "            # print out the node data\n",
    "            print(current_node.get_node_data())\n",
    "            # and set the curent node to the next node\n",
    "            current_node = current_node.get_next_node()\n",
    "    \n",
    "    # Show doubly linked list last to first\n",
    "    # Print every piece of data in the linked list\n",
    "    # from last node to first\n",
    "    def show_last_to_first(self):\n",
    "        # if the doubly linked list is empty, return None\n",
    "        if self.size() == 0:\n",
    "            return\n",
    "        \n",
    "        # initially set the current node to the LL's last node\n",
    "        current_node = self.last_node\n",
    "        \n",
    "        # as long as the current node isn't None...\n",
    "        while current_node != self.first_node.get_prev_node():\n",
    "            # print out the node data\n",
    "            print(current_node.get_node_data())\n",
    "            # and set the curent node to the next node\n",
    "            current_node = current_node.get_prev_node()\n",
    "\n",
    "    # Size - how many nodes?\n",
    "    def size(self):\n",
    "        # if there's no first node, the size is zero\n",
    "        if self.first_node == None:\n",
    "            return 0\n",
    "        \n",
    "        # set current_node/_index to initial node & node index\n",
    "        current_index = 0\n",
    "        current_node = self.first_node\n",
    "        \n",
    "        while current_node != self.last_node.get_next_node():\n",
    "            current_node = current_node.get_next_node()\n",
    "            current_index = current_index + 1\n",
    "        \n",
    "        return(current_index)\n",
    "    \n",
    "    # Insert node at end of DLL\n",
    "    def insert_at_end(self, new_node):\n",
    "        # if there's nothing in the DLL, just add the node\n",
    "        if self.size() == 0:\n",
    "            self.first_node = new_node\n",
    "            self.last_node = new_node\n",
    "        # else put node at the end\n",
    "        else:\n",
    "            new_node.set_prev_node(self.last_node)\n",
    "            self.last_node.set_next_node(new_node)\n",
    "            self.last_node = new_node\n",
    "    \n",
    "    # Remove node from from of DLL\n",
    "    def remove_from_front(self):\n",
    "        # if there's nothing in the DLL, return None\n",
    "        if self.size() == 0:\n",
    "            return\n",
    "        # else remove the node\n",
    "        removed_node = self.first_node\n",
    "        self.first_node = self.first_node.get_next_node()\n",
    "        return removed_node"
   ]
  },
  {
   "cell_type": "code",
   "execution_count": 312,
   "metadata": {},
   "outputs": [],
   "source": [
    "node_A = Node('A')\n",
    "node_B = Node('B')\n",
    "node_C = Node('C')"
   ]
  },
  {
   "cell_type": "code",
   "execution_count": 313,
   "metadata": {},
   "outputs": [],
   "source": [
    "node_A.set_next_node(node_B)\n",
    "node_B.set_prev_node(node_A)\n",
    "node_B.set_next_node(node_C)\n",
    "node_C.set_prev_node(node_B)"
   ]
  },
  {
   "cell_type": "code",
   "execution_count": 314,
   "metadata": {},
   "outputs": [],
   "source": [
    "d_linked_list_3 = DoublyLinkedList(node_A, node_B)"
   ]
  },
  {
   "cell_type": "code",
   "execution_count": 315,
   "metadata": {},
   "outputs": [
    {
     "data": {
      "text/plain": [
       "2"
      ]
     },
     "execution_count": 315,
     "metadata": {},
     "output_type": "execute_result"
    }
   ],
   "source": [
    "d_linked_list_3.size()"
   ]
  },
  {
   "cell_type": "code",
   "execution_count": 316,
   "metadata": {},
   "outputs": [
    {
     "name": "stdout",
     "output_type": "stream",
     "text": [
      "A\n",
      "B\n"
     ]
    }
   ],
   "source": [
    "d_linked_list_3.show_first_to_last()"
   ]
  },
  {
   "cell_type": "code",
   "execution_count": 317,
   "metadata": {},
   "outputs": [],
   "source": [
    "d_linked_list_3.insert_at_end(Node('D'))"
   ]
  },
  {
   "cell_type": "code",
   "execution_count": 318,
   "metadata": {},
   "outputs": [
    {
     "data": {
      "text/plain": [
       "3"
      ]
     },
     "execution_count": 318,
     "metadata": {},
     "output_type": "execute_result"
    }
   ],
   "source": [
    "d_linked_list_3.size()"
   ]
  },
  {
   "cell_type": "code",
   "execution_count": 319,
   "metadata": {},
   "outputs": [
    {
     "name": "stdout",
     "output_type": "stream",
     "text": [
      "A\n",
      "B\n",
      "D\n"
     ]
    }
   ],
   "source": [
    "d_linked_list_3.show_first_to_last()"
   ]
  },
  {
   "cell_type": "code",
   "execution_count": 328,
   "metadata": {},
   "outputs": [],
   "source": [
    "class Queue:\n",
    "    def __init__(self, init_doubly_linked_list):\n",
    "        self.queue = init_doubly_linked_list\n",
    "    \n",
    "    def enque(self, value):\n",
    "        self.queue.insert_at_end(value)\n",
    "    \n",
    "    def deque(self):\n",
    "        removed_node = self.queue.remove_from_front()\n",
    "        return removed_node.get_node_data()\n",
    "\n",
    "    def tail(self):\n",
    "        return self.queue.get_last_node().get_node_data()\n",
    "    \n",
    "    def show(self):\n",
    "        self.queue.show_first_to_last()"
   ]
  },
  {
   "cell_type": "code",
   "execution_count": 329,
   "metadata": {},
   "outputs": [],
   "source": [
    "node_A = Node('A')\n",
    "node_B = Node('B')\n",
    "node_C = Node('C')"
   ]
  },
  {
   "cell_type": "code",
   "execution_count": 330,
   "metadata": {},
   "outputs": [],
   "source": [
    "node_A.set_next_node(node_B)\n",
    "node_B.set_prev_node(node_A)\n",
    "node_B.set_next_node(node_C)\n",
    "node_C.set_prev_node(node_B)"
   ]
  },
  {
   "cell_type": "code",
   "execution_count": 331,
   "metadata": {},
   "outputs": [],
   "source": [
    "q_1 = Queue(DoublyLinkedList(node_A, node_C))"
   ]
  },
  {
   "cell_type": "code",
   "execution_count": 332,
   "metadata": {},
   "outputs": [
    {
     "data": {
      "text/plain": [
       "'C'"
      ]
     },
     "execution_count": 332,
     "metadata": {},
     "output_type": "execute_result"
    }
   ],
   "source": [
    "q_1.tail()"
   ]
  },
  {
   "cell_type": "code",
   "execution_count": 333,
   "metadata": {},
   "outputs": [],
   "source": [
    "q_1.enque(Node('D'))"
   ]
  },
  {
   "cell_type": "code",
   "execution_count": 334,
   "metadata": {},
   "outputs": [
    {
     "data": {
      "text/plain": [
       "'D'"
      ]
     },
     "execution_count": 334,
     "metadata": {},
     "output_type": "execute_result"
    }
   ],
   "source": [
    "q_1.tail()"
   ]
  },
  {
   "cell_type": "code",
   "execution_count": 335,
   "metadata": {},
   "outputs": [
    {
     "data": {
      "text/plain": [
       "'A'"
      ]
     },
     "execution_count": 335,
     "metadata": {},
     "output_type": "execute_result"
    }
   ],
   "source": [
    "q_1.deque()"
   ]
  },
  {
   "cell_type": "code",
   "execution_count": 336,
   "metadata": {},
   "outputs": [
    {
     "name": "stdout",
     "output_type": "stream",
     "text": [
      "B\n",
      "C\n",
      "D\n"
     ]
    }
   ],
   "source": [
    "q_1.show()"
   ]
  },
  {
   "cell_type": "code",
   "execution_count": 337,
   "metadata": {},
   "outputs": [
    {
     "data": {
      "text/plain": [
       "'B'"
      ]
     },
     "execution_count": 337,
     "metadata": {},
     "output_type": "execute_result"
    }
   ],
   "source": [
    "q_1.deque()"
   ]
  },
  {
   "cell_type": "code",
   "execution_count": 338,
   "metadata": {},
   "outputs": [
    {
     "name": "stdout",
     "output_type": "stream",
     "text": [
      "C\n",
      "D\n"
     ]
    }
   ],
   "source": [
    "q_1.show()"
   ]
  },
  {
   "cell_type": "code",
   "execution_count": 339,
   "metadata": {},
   "outputs": [],
   "source": [
    "q_1.enque(Node('E'))"
   ]
  },
  {
   "cell_type": "code",
   "execution_count": 340,
   "metadata": {},
   "outputs": [
    {
     "name": "stdout",
     "output_type": "stream",
     "text": [
      "C\n",
      "D\n",
      "E\n"
     ]
    }
   ],
   "source": [
    "q_1.show()"
   ]
  },
  {
   "cell_type": "code",
   "execution_count": null,
   "metadata": {},
   "outputs": [],
   "source": []
  }
 ],
 "metadata": {
  "kernelspec": {
   "display_name": "Python 3",
   "language": "python",
   "name": "python3"
  },
  "language_info": {
   "codemirror_mode": {
    "name": "ipython",
    "version": 3
   },
   "file_extension": ".py",
   "mimetype": "text/x-python",
   "name": "python",
   "nbconvert_exporter": "python",
   "pygments_lexer": "ipython3",
   "version": "3.7.1"
  }
 },
 "nbformat": 4,
 "nbformat_minor": 2
}
