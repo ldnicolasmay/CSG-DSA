{
 "cells": [
  {
   "cell_type": "markdown",
   "metadata": {},
   "source": [
    "# Chapter 9"
   ]
  },
  {
   "cell_type": "markdown",
   "metadata": {},
   "source": [
    "## Recurse Instead of Loop"
   ]
  },
  {
   "cell_type": "code",
   "execution_count": 1,
   "metadata": {},
   "outputs": [],
   "source": [
    "def countdown(n):\n",
    "    for i in range(n+1):\n",
    "        print(n-i) "
   ]
  },
  {
   "cell_type": "code",
   "execution_count": 2,
   "metadata": {},
   "outputs": [
    {
     "name": "stdout",
     "output_type": "stream",
     "text": [
      "10\n",
      "9\n",
      "8\n",
      "7\n",
      "6\n",
      "5\n",
      "4\n",
      "3\n",
      "2\n",
      "1\n",
      "0\n"
     ]
    }
   ],
   "source": [
    "countdown(10)"
   ]
  },
  {
   "cell_type": "code",
   "execution_count": 3,
   "metadata": {},
   "outputs": [
    {
     "name": "stdout",
     "output_type": "stream",
     "text": [
      "5\n",
      "4\n",
      "3\n",
      "2\n",
      "1\n",
      "0\n"
     ]
    }
   ],
   "source": [
    "countdown(5)"
   ]
  },
  {
   "cell_type": "code",
   "execution_count": 4,
   "metadata": {},
   "outputs": [],
   "source": [
    "def countdown(n):\n",
    "    if n > 0:\n",
    "        print(n)\n",
    "        countdown(n-1)\n",
    "    elif n == 0:\n",
    "        print(n)\n",
    "        return"
   ]
  },
  {
   "cell_type": "code",
   "execution_count": 5,
   "metadata": {},
   "outputs": [
    {
     "name": "stdout",
     "output_type": "stream",
     "text": [
      "10\n",
      "9\n",
      "8\n",
      "7\n",
      "6\n",
      "5\n",
      "4\n",
      "3\n",
      "2\n",
      "1\n",
      "0\n"
     ]
    }
   ],
   "source": [
    "countdown(10)"
   ]
  },
  {
   "cell_type": "markdown",
   "metadata": {},
   "source": [
    "Let's put the base case (n = 0) first."
   ]
  },
  {
   "cell_type": "code",
   "execution_count": 6,
   "metadata": {},
   "outputs": [],
   "source": [
    "def countdown(n):\n",
    "    if n == 0:\n",
    "        print(n)\n",
    "        return\n",
    "    elif n > 0:\n",
    "        print(n)\n",
    "        countdown(n-1)\n",
    "    else: # if the fxn is passed a negative integer\n",
    "        return"
   ]
  },
  {
   "cell_type": "code",
   "execution_count": 7,
   "metadata": {},
   "outputs": [
    {
     "name": "stdout",
     "output_type": "stream",
     "text": [
      "5\n",
      "4\n",
      "3\n",
      "2\n",
      "1\n",
      "0\n"
     ]
    }
   ],
   "source": [
    "countdown(5)"
   ]
  },
  {
   "cell_type": "code",
   "execution_count": 8,
   "metadata": {},
   "outputs": [],
   "source": [
    "countdown(-5)"
   ]
  },
  {
   "cell_type": "markdown",
   "metadata": {},
   "source": [
    "## Reading Recursive Code"
   ]
  },
  {
   "cell_type": "code",
   "execution_count": 9,
   "metadata": {},
   "outputs": [],
   "source": [
    "def factorial(n):\n",
    "    if n == 1 or n == 0:\n",
    "        return(1)\n",
    "    elif n > 1:\n",
    "        return(n * factorial(n-1))\n",
    "    else: # if the fxn is passed a negative number\n",
    "        return"
   ]
  },
  {
   "cell_type": "code",
   "execution_count": 10,
   "metadata": {},
   "outputs": [
    {
     "data": {
      "text/plain": [
       "120"
      ]
     },
     "execution_count": 10,
     "metadata": {},
     "output_type": "execute_result"
    }
   ],
   "source": [
    "factorial(5)"
   ]
  },
  {
   "cell_type": "code",
   "execution_count": 11,
   "metadata": {},
   "outputs": [
    {
     "data": {
      "text/plain": [
       "1"
      ]
     },
     "execution_count": 11,
     "metadata": {},
     "output_type": "execute_result"
    }
   ],
   "source": [
    "factorial(0)"
   ]
  },
  {
   "cell_type": "code",
   "execution_count": 12,
   "metadata": {},
   "outputs": [
    {
     "data": {
      "text/plain": [
       "1"
      ]
     },
     "execution_count": 12,
     "metadata": {},
     "output_type": "execute_result"
    }
   ],
   "source": [
    "factorial(1)"
   ]
  },
  {
   "cell_type": "code",
   "execution_count": 13,
   "metadata": {},
   "outputs": [
    {
     "data": {
      "text/plain": [
       "2"
      ]
     },
     "execution_count": 13,
     "metadata": {},
     "output_type": "execute_result"
    }
   ],
   "source": [
    "factorial(2)"
   ]
  },
  {
   "cell_type": "code",
   "execution_count": 14,
   "metadata": {},
   "outputs": [
    {
     "data": {
      "text/plain": [
       "2432902008176640000"
      ]
     },
     "execution_count": 14,
     "metadata": {},
     "output_type": "execute_result"
    }
   ],
   "source": [
    "factorial(20)"
   ]
  },
  {
   "cell_type": "code",
   "execution_count": 15,
   "metadata": {},
   "outputs": [
    {
     "data": {
      "text/plain": [
       "30414093201713378043612608166064768844377641568960512000000000000"
      ]
     },
     "execution_count": 15,
     "metadata": {},
     "output_type": "execute_result"
    }
   ],
   "source": [
    "factorial(50)"
   ]
  },
  {
   "cell_type": "markdown",
   "metadata": {},
   "source": [
    "## Recursion in Action"
   ]
  },
  {
   "cell_type": "code",
   "execution_count": 16,
   "metadata": {},
   "outputs": [
    {
     "data": {
      "text/plain": [
       "True"
      ]
     },
     "execution_count": 16,
     "metadata": {},
     "output_type": "execute_result"
    }
   ],
   "source": [
    "import os\n",
    "\n",
    "home = os.path.dirname('/Users/ldmay/')\n",
    "\n",
    "os.path.exists(home)"
   ]
  },
  {
   "cell_type": "code",
   "execution_count": 17,
   "metadata": {},
   "outputs": [],
   "source": [
    "dirs_path = '/Users/ldmay/Box Sync/Learning'"
   ]
  },
  {
   "cell_type": "code",
   "execution_count": 18,
   "metadata": {},
   "outputs": [
    {
     "data": {
      "text/plain": [
       "['CSGDSA',\n",
       " 'PostgreSQL',\n",
       " '.DS_Store',\n",
       " 'ubuntu_18_04_key.pem',\n",
       " 'ISLR.zip',\n",
       " 'RcppTutorial',\n",
       " 'shiny_tutorial',\n",
       " 'R',\n",
       " 'ESL II',\n",
       " 'ISLR',\n",
       " 'ProjectEuler',\n",
       " 'HtDP',\n",
       " 'Bash',\n",
       " 'Lynda',\n",
       " 'postgresql_sandbox',\n",
       " 'DataCamp',\n",
       " 'RDataStructuresAndAlgorithms',\n",
       " 'Programming',\n",
       " 'r4ds',\n",
       " 'Linear Algebra - CtM',\n",
       " '.ipynb_checkpoints',\n",
       " 'r2d3_learning',\n",
       " 'Linear_Algebra',\n",
       " 'sparklyr_webinar',\n",
       " 'purrr_tutorial',\n",
       " 'r_db_sandbox']"
      ]
     },
     "execution_count": 18,
     "metadata": {},
     "output_type": "execute_result"
    }
   ],
   "source": [
    "os.listdir(path = '/Users/ldmay/Box Sync/Learning')"
   ]
  },
  {
   "cell_type": "code",
   "execution_count": 19,
   "metadata": {},
   "outputs": [],
   "source": [
    "dirs = os.listdir(path = '/Users/ldmay/Box Sync/Learning')"
   ]
  },
  {
   "cell_type": "code",
   "execution_count": 20,
   "metadata": {},
   "outputs": [
    {
     "name": "stdout",
     "output_type": "stream",
     "text": [
      "CSGDSA : /Users/ldmay/Box Sync/Learning/CSGDSA\n",
      "PostgreSQL : /Users/ldmay/Box Sync/Learning/PostgreSQL\n",
      ".DS_Store : /Users/ldmay/Box Sync/Learning/.DS_Store\n",
      "ubuntu_18_04_key.pem : /Users/ldmay/Box Sync/Learning/ubuntu_18_04_key.pem\n",
      "ISLR.zip : /Users/ldmay/Box Sync/Learning/ISLR.zip\n",
      "RcppTutorial : /Users/ldmay/Box Sync/Learning/RcppTutorial\n",
      "shiny_tutorial : /Users/ldmay/Box Sync/Learning/shiny_tutorial\n",
      "R : /Users/ldmay/Box Sync/Learning/R\n",
      "ESL II : /Users/ldmay/Box Sync/Learning/ESL II\n",
      "ISLR : /Users/ldmay/Box Sync/Learning/ISLR\n",
      "ProjectEuler : /Users/ldmay/Box Sync/Learning/ProjectEuler\n",
      "HtDP : /Users/ldmay/Box Sync/Learning/HtDP\n",
      "Bash : /Users/ldmay/Box Sync/Learning/Bash\n",
      "Lynda : /Users/ldmay/Box Sync/Learning/Lynda\n",
      "postgresql_sandbox : /Users/ldmay/Box Sync/Learning/postgresql_sandbox\n",
      "DataCamp : /Users/ldmay/Box Sync/Learning/DataCamp\n",
      "RDataStructuresAndAlgorithms : /Users/ldmay/Box Sync/Learning/RDataStructuresAndAlgorithms\n",
      "Programming : /Users/ldmay/Box Sync/Learning/Programming\n",
      "r4ds : /Users/ldmay/Box Sync/Learning/r4ds\n",
      "Linear Algebra - CtM : /Users/ldmay/Box Sync/Learning/Linear Algebra - CtM\n",
      ".ipynb_checkpoints : /Users/ldmay/Box Sync/Learning/.ipynb_checkpoints\n",
      "r2d3_learning : /Users/ldmay/Box Sync/Learning/r2d3_learning\n",
      "Linear_Algebra : /Users/ldmay/Box Sync/Learning/Linear_Algebra\n",
      "sparklyr_webinar : /Users/ldmay/Box Sync/Learning/sparklyr_webinar\n",
      "purrr_tutorial : /Users/ldmay/Box Sync/Learning/purrr_tutorial\n",
      "r_db_sandbox : /Users/ldmay/Box Sync/Learning/r_db_sandbox\n"
     ]
    }
   ],
   "source": [
    "for dir in dirs:\n",
    "    print(dir, ':', os.path.join(dirs_path, dir))"
   ]
  },
  {
   "cell_type": "code",
   "execution_count": 21,
   "metadata": {},
   "outputs": [
    {
     "data": {
      "text/plain": [
       "'/Users/ldmay/Box Sync'"
      ]
     },
     "execution_count": 21,
     "metadata": {},
     "output_type": "execute_result"
    }
   ],
   "source": [
    "os.path.join('/Users/ldmay', 'Box Sync')"
   ]
  },
  {
   "cell_type": "code",
   "execution_count": 22,
   "metadata": {},
   "outputs": [
    {
     "name": "stdout",
     "output_type": "stream",
     "text": [
      "CSGDSA : /Users/ldmay/Box Sync/Learning/CSGDSA\n",
      "PostgreSQL : /Users/ldmay/Box Sync/Learning/PostgreSQL\n",
      "RcppTutorial : /Users/ldmay/Box Sync/Learning/RcppTutorial\n",
      "shiny_tutorial : /Users/ldmay/Box Sync/Learning/shiny_tutorial\n",
      "R : /Users/ldmay/Box Sync/Learning/R\n",
      "ESL II : /Users/ldmay/Box Sync/Learning/ESL II\n",
      "ISLR : /Users/ldmay/Box Sync/Learning/ISLR\n",
      "ProjectEuler : /Users/ldmay/Box Sync/Learning/ProjectEuler\n",
      "HtDP : /Users/ldmay/Box Sync/Learning/HtDP\n",
      "Bash : /Users/ldmay/Box Sync/Learning/Bash\n",
      "Lynda : /Users/ldmay/Box Sync/Learning/Lynda\n",
      "postgresql_sandbox : /Users/ldmay/Box Sync/Learning/postgresql_sandbox\n",
      "DataCamp : /Users/ldmay/Box Sync/Learning/DataCamp\n",
      "RDataStructuresAndAlgorithms : /Users/ldmay/Box Sync/Learning/RDataStructuresAndAlgorithms\n",
      "Programming : /Users/ldmay/Box Sync/Learning/Programming\n",
      "r4ds : /Users/ldmay/Box Sync/Learning/r4ds\n",
      "Linear Algebra - CtM : /Users/ldmay/Box Sync/Learning/Linear Algebra - CtM\n",
      ".ipynb_checkpoints : /Users/ldmay/Box Sync/Learning/.ipynb_checkpoints\n",
      "r2d3_learning : /Users/ldmay/Box Sync/Learning/r2d3_learning\n",
      "Linear_Algebra : /Users/ldmay/Box Sync/Learning/Linear_Algebra\n",
      "sparklyr_webinar : /Users/ldmay/Box Sync/Learning/sparklyr_webinar\n",
      "purrr_tutorial : /Users/ldmay/Box Sync/Learning/purrr_tutorial\n",
      "r_db_sandbox : /Users/ldmay/Box Sync/Learning/r_db_sandbox\n"
     ]
    }
   ],
   "source": [
    "for dir in dirs:\n",
    "    if (os.path.isdir(os.path.join(dirs_path, dir))):\n",
    "        print(dir, ':', os.path.join(dirs_path, dir))"
   ]
  },
  {
   "cell_type": "code",
   "execution_count": 23,
   "metadata": {},
   "outputs": [],
   "source": [
    "def find_directories(base_dir_path, sorted = False):\n",
    "    dirs = os.listdir(path = base_dir_path)\n",
    "    if sorted: dirs.sort()\n",
    "    for d in dirs:\n",
    "        if (os.path.isdir(os.path.join(base_dir_path, d))):\n",
    "            print(os.path.join(base_dir_path, d))"
   ]
  },
  {
   "cell_type": "code",
   "execution_count": 24,
   "metadata": {},
   "outputs": [
    {
     "name": "stdout",
     "output_type": "stream",
     "text": [
      "/Users/Shared\n",
      "/Users/ldmay\n"
     ]
    }
   ],
   "source": [
    "find_directories('/Users/')"
   ]
  },
  {
   "cell_type": "code",
   "execution_count": 25,
   "metadata": {},
   "outputs": [
    {
     "name": "stdout",
     "output_type": "stream",
     "text": [
      "/Users/ldmay/Music\n",
      "/Users/ldmay/Unload_CitrixReceiver_App.app\n",
      "/Users/ldmay/Temp\n",
      "/Users/ldmay/.R\n",
      "/Users/ldmay/psqlodbc-11.00.0000\n",
      "/Users/ldmay/.subversion\n",
      "/Users/ldmay/Pictures\n",
      "/Users/ldmay/.atom\n",
      "/Users/ldmay/.ipython\n",
      "/Users/ldmay/Desktop\n",
      "/Users/ldmay/Library\n",
      "/Users/ldmay/.matplotlib\n",
      "/Users/ldmay/.oracle_jre_usage\n",
      "/Users/ldmay/.spyder-py3\n",
      "/Users/ldmay/Box Sync\n",
      "/Users/ldmay/.pgadmin\n",
      "/Users/ldmay/.cups\n",
      "/Users/ldmay/.bash_sessions\n",
      "/Users/ldmay/Public\n",
      "/Users/ldmay/.anaconda\n",
      "/Users/ldmay/.ssh\n",
      "/Users/ldmay/Movies\n",
      "/Users/ldmay/Applications\n",
      "/Users/ldmay/.ghc\n",
      "/Users/ldmay/.Trash\n",
      "/Users/ldmay/.zoomus\n",
      "/Users/ldmay/.jupyter\n",
      "/Users/ldmay/Documents\n",
      "/Users/ldmay/.azuredatastudio\n",
      "/Users/ldmay/MRI\n",
      "/Users/ldmay/.rstudio-desktop\n",
      "/Users/ldmay/anaconda3\n",
      "/Users/ldmay/Downloads\n",
      "/Users/ldmay/.cache\n",
      "/Users/ldmay/spark\n",
      "/Users/ldmay/.conda\n"
     ]
    }
   ],
   "source": [
    "find_directories('/Users/ldmay')"
   ]
  },
  {
   "cell_type": "code",
   "execution_count": 26,
   "metadata": {},
   "outputs": [
    {
     "name": "stdout",
     "output_type": "stream",
     "text": [
      "/Users/ldmay/.R\n",
      "/Users/ldmay/.Trash\n",
      "/Users/ldmay/.anaconda\n",
      "/Users/ldmay/.atom\n",
      "/Users/ldmay/.azuredatastudio\n",
      "/Users/ldmay/.bash_sessions\n",
      "/Users/ldmay/.cache\n",
      "/Users/ldmay/.conda\n",
      "/Users/ldmay/.cups\n",
      "/Users/ldmay/.ghc\n",
      "/Users/ldmay/.ipython\n",
      "/Users/ldmay/.jupyter\n",
      "/Users/ldmay/.matplotlib\n",
      "/Users/ldmay/.oracle_jre_usage\n",
      "/Users/ldmay/.pgadmin\n",
      "/Users/ldmay/.rstudio-desktop\n",
      "/Users/ldmay/.spyder-py3\n",
      "/Users/ldmay/.ssh\n",
      "/Users/ldmay/.subversion\n",
      "/Users/ldmay/.zoomus\n",
      "/Users/ldmay/Applications\n",
      "/Users/ldmay/Box Sync\n",
      "/Users/ldmay/Desktop\n",
      "/Users/ldmay/Documents\n",
      "/Users/ldmay/Downloads\n",
      "/Users/ldmay/Library\n",
      "/Users/ldmay/MRI\n",
      "/Users/ldmay/Movies\n",
      "/Users/ldmay/Music\n",
      "/Users/ldmay/Pictures\n",
      "/Users/ldmay/Public\n",
      "/Users/ldmay/Temp\n",
      "/Users/ldmay/Unload_CitrixReceiver_App.app\n",
      "/Users/ldmay/anaconda3\n",
      "/Users/ldmay/psqlodbc-11.00.0000\n",
      "/Users/ldmay/spark\n"
     ]
    }
   ],
   "source": [
    "find_directories('/Users/ldmay', sorted = True)"
   ]
  },
  {
   "cell_type": "code",
   "execution_count": 27,
   "metadata": {},
   "outputs": [],
   "source": [
    "def find_directories(base_dir_path, sorted = False):\n",
    "    dirs = os.listdir(path = base_dir_path)\n",
    "    if sorted: dirs.sort()\n",
    "    for d in dirs:\n",
    "        if (os.path.isdir(os.path.join(base_dir_path, d))):\n",
    "            subdir = os.path.join(base_dir_path, d)\n",
    "            print(subdir)\n",
    "            find_directories(subdir, sorted)"
   ]
  },
  {
   "cell_type": "code",
   "execution_count": 28,
   "metadata": {},
   "outputs": [
    {
     "name": "stdout",
     "output_type": "stream",
     "text": [
      "/Users/ldmay/Box Sync/Learning/ISLR/.Rproj.user\n",
      "/Users/ldmay/Box Sync/Learning/ISLR/.Rproj.user/2D45FB2C\n",
      "/Users/ldmay/Box Sync/Learning/ISLR/.Rproj.user/2D45FB2C/console06\n",
      "/Users/ldmay/Box Sync/Learning/ISLR/.Rproj.user/2D45FB2C/pcs\n",
      "/Users/ldmay/Box Sync/Learning/ISLR/.Rproj.user/2D45FB2C/sdb\n",
      "/Users/ldmay/Box Sync/Learning/ISLR/.Rproj.user/2D45FB2C/sdb/per\n",
      "/Users/ldmay/Box Sync/Learning/ISLR/.Rproj.user/2D45FB2C/sdb/per/t\n",
      "/Users/ldmay/Box Sync/Learning/ISLR/.Rproj.user/2D45FB2C/sdb/prop\n",
      "/Users/ldmay/Box Sync/Learning/ISLR/.Rproj.user/2D45FB2C/sources\n",
      "/Users/ldmay/Box Sync/Learning/ISLR/.Rproj.user/2D45FB2C/sources/per\n",
      "/Users/ldmay/Box Sync/Learning/ISLR/.Rproj.user/2D45FB2C/sources/per/t\n",
      "/Users/ldmay/Box Sync/Learning/ISLR/.Rproj.user/2D45FB2C/sources/prop\n",
      "/Users/ldmay/Box Sync/Learning/ISLR/.Rproj.user/2D45FB2C/viewer-cache\n",
      "/Users/ldmay/Box Sync/Learning/ISLR/.Rproj.user/2EF5EA26\n",
      "/Users/ldmay/Box Sync/Learning/ISLR/.Rproj.user/2EF5EA26/console06\n",
      "/Users/ldmay/Box Sync/Learning/ISLR/.Rproj.user/2EF5EA26/pcs\n",
      "/Users/ldmay/Box Sync/Learning/ISLR/.Rproj.user/2EF5EA26/sources\n",
      "/Users/ldmay/Box Sync/Learning/ISLR/.Rproj.user/2EF5EA26/sources/per\n",
      "/Users/ldmay/Box Sync/Learning/ISLR/.Rproj.user/2EF5EA26/sources/per/t\n",
      "/Users/ldmay/Box Sync/Learning/ISLR/.Rproj.user/2EF5EA26/sources/prop\n",
      "/Users/ldmay/Box Sync/Learning/ISLR/.Rproj.user/6C6249C5\n",
      "/Users/ldmay/Box Sync/Learning/ISLR/.Rproj.user/6C6249C5/console06\n",
      "/Users/ldmay/Box Sync/Learning/ISLR/.Rproj.user/6C6249C5/pcs\n",
      "/Users/ldmay/Box Sync/Learning/ISLR/.Rproj.user/6C6249C5/sources\n",
      "/Users/ldmay/Box Sync/Learning/ISLR/.Rproj.user/6C6249C5/sources/prop\n",
      "/Users/ldmay/Box Sync/Learning/ISLR/.Rproj.user/6C6249C5/sources/s-642B997D\n",
      "/Users/ldmay/Box Sync/Learning/ISLR/.Rproj.user/6C6249C5/viewer-cache\n",
      "/Users/ldmay/Box Sync/Learning/ISLR/.Rproj.user/7AA75DB2\n",
      "/Users/ldmay/Box Sync/Learning/ISLR/.Rproj.user/7AA75DB2/console06\n",
      "/Users/ldmay/Box Sync/Learning/ISLR/.Rproj.user/7AA75DB2/pcs\n",
      "/Users/ldmay/Box Sync/Learning/ISLR/.Rproj.user/7AA75DB2/sources\n",
      "/Users/ldmay/Box Sync/Learning/ISLR/.Rproj.user/7AA75DB2/sources/per\n",
      "/Users/ldmay/Box Sync/Learning/ISLR/.Rproj.user/7AA75DB2/sources/per/t\n",
      "/Users/ldmay/Box Sync/Learning/ISLR/.Rproj.user/7AA75DB2/sources/prop\n",
      "/Users/ldmay/Box Sync/Learning/ISLR/.Rproj.user/E17BEC9D\n",
      "/Users/ldmay/Box Sync/Learning/ISLR/.Rproj.user/E17BEC9D/console06\n",
      "/Users/ldmay/Box Sync/Learning/ISLR/.Rproj.user/E17BEC9D/pcs\n",
      "/Users/ldmay/Box Sync/Learning/ISLR/.Rproj.user/E17BEC9D/sdb\n",
      "/Users/ldmay/Box Sync/Learning/ISLR/.Rproj.user/E17BEC9D/sdb/per\n",
      "/Users/ldmay/Box Sync/Learning/ISLR/.Rproj.user/E17BEC9D/sdb/per/t\n",
      "/Users/ldmay/Box Sync/Learning/ISLR/.Rproj.user/E17BEC9D/sdb/prop\n",
      "/Users/ldmay/Box Sync/Learning/ISLR/.Rproj.user/E17BEC9D/sources\n",
      "/Users/ldmay/Box Sync/Learning/ISLR/.Rproj.user/E17BEC9D/sources/prop\n",
      "/Users/ldmay/Box Sync/Learning/ISLR/.Rproj.user/E17BEC9D/sources/s-74172425\n",
      "/Users/ldmay/Box Sync/Learning/ISLR/.Rproj.user/E17BEC9D/unsaved-notebooks\n",
      "/Users/ldmay/Box Sync/Learning/ISLR/.Rproj.user/E17BEC9D/unsaved-notebooks/6ECA776D\n",
      "/Users/ldmay/Box Sync/Learning/ISLR/.Rproj.user/E17BEC9D/unsaved-notebooks/6ECA776D/1\n",
      "/Users/ldmay/Box Sync/Learning/ISLR/.Rproj.user/shared\n",
      "/Users/ldmay/Box Sync/Learning/ISLR/.Rproj.user/shared/notebooks\n",
      "/Users/ldmay/Box Sync/Learning/ISLR/.Rproj.user/shared/notebooks/254D60A3-Ch02\n",
      "/Users/ldmay/Box Sync/Learning/ISLR/.Rproj.user/shared/notebooks/254D60A3-Ch02/1\n",
      "/Users/ldmay/Box Sync/Learning/ISLR/.Rproj.user/shared/notebooks/254D60A3-Ch02/1/7AA75DB2FB9B03F9\n",
      "/Users/ldmay/Box Sync/Learning/ISLR/.Rproj.user/shared/notebooks/254D60A3-Ch02/1/s\n",
      "/Users/ldmay/Box Sync/Learning/ISLR/.Rproj.user/shared/notebooks/254D60A3-Ch02/1/s/c3m6gb3qhwful\n",
      "/Users/ldmay/Box Sync/Learning/ISLR/.Rproj.user/shared/notebooks/254D60A3-Ch02/1/s/c4ppit7mpcqxc\n",
      "/Users/ldmay/Box Sync/Learning/ISLR/.Rproj.user/shared/notebooks/254D60A3-Ch02/1/s/c5ev7ve2a0408\n",
      "/Users/ldmay/Box Sync/Learning/ISLR/.Rproj.user/shared/notebooks/254D60A3-Ch02/1/s/c6k9j4yb3v2s7\n",
      "/Users/ldmay/Box Sync/Learning/ISLR/.Rproj.user/shared/notebooks/254D60A3-Ch02/1/s/c74nu1cwojpe4\n",
      "/Users/ldmay/Box Sync/Learning/ISLR/.Rproj.user/shared/notebooks/254D60A3-Ch02/1/s/c7s6gsv07vfr1\n",
      "/Users/ldmay/Box Sync/Learning/ISLR/.Rproj.user/shared/notebooks/254D60A3-Ch02/1/s/c8m21ebstnn3c\n",
      "/Users/ldmay/Box Sync/Learning/ISLR/.Rproj.user/shared/notebooks/254D60A3-Ch02/1/s/c8ofbaa2a0ybj\n",
      "/Users/ldmay/Box Sync/Learning/ISLR/.Rproj.user/shared/notebooks/254D60A3-Ch02/1/s/cfloo5d68yn91\n",
      "/Users/ldmay/Box Sync/Learning/ISLR/.Rproj.user/shared/notebooks/254D60A3-Ch02/1/s/cglikqreh2d40\n",
      "/Users/ldmay/Box Sync/Learning/ISLR/.Rproj.user/shared/notebooks/254D60A3-Ch02/1/s/cgofen8ajm2vq\n",
      "/Users/ldmay/Box Sync/Learning/ISLR/.Rproj.user/shared/notebooks/254D60A3-Ch02/1/s/cju0fayl3fd8q\n",
      "/Users/ldmay/Box Sync/Learning/ISLR/.Rproj.user/shared/notebooks/254D60A3-Ch02/1/s/cjv7fozs5k11e\n",
      "/Users/ldmay/Box Sync/Learning/ISLR/.Rproj.user/shared/notebooks/254D60A3-Ch02/1/s/ck5yn4i3urom5\n",
      "/Users/ldmay/Box Sync/Learning/ISLR/.Rproj.user/shared/notebooks/254D60A3-Ch02/1/s/cqhwjv3wqsiv6\n",
      "/Users/ldmay/Box Sync/Learning/ISLR/.Rproj.user/shared/notebooks/254D60A3-Ch02/1/s/craufyphdwp8b\n",
      "/Users/ldmay/Box Sync/Learning/ISLR/.Rproj.user/shared/notebooks/254D60A3-Ch02/1/s/csetup_chunk\n",
      "/Users/ldmay/Box Sync/Learning/ISLR/.Rproj.user/shared/notebooks/254D60A3-Ch02/1/s/cstrba6evk2mn\n",
      "/Users/ldmay/Box Sync/Learning/ISLR/.Rproj.user/shared/notebooks/254D60A3-Ch02/1/s/cth604ck23dar\n",
      "/Users/ldmay/Box Sync/Learning/ISLR/.Rproj.user/shared/notebooks/254D60A3-Ch02/1/s/cv0tk0cd24wg0\n",
      "/Users/ldmay/Box Sync/Learning/ISLR/.Rproj.user/shared/notebooks/254D60A3-Ch02/1/s/cwkpv3wnyhbw0\n",
      "/Users/ldmay/Box Sync/Learning/ISLR/Ch02\n",
      "/Users/ldmay/Box Sync/Learning/ISLR/Ch02/Ch02_files\n",
      "/Users/ldmay/Box Sync/Learning/ISLR/Ch02/Ch02_files/figure-html\n",
      "/Users/ldmay/Box Sync/Learning/ISLR/Ch03\n",
      "/Users/ldmay/Box Sync/Learning/ISLR/Ch04\n",
      "/Users/ldmay/Box Sync/Learning/ISLR/Ch05\n",
      "/Users/ldmay/Box Sync/Learning/ISLR/Ch06\n",
      "/Users/ldmay/Box Sync/Learning/ISLR/Ch07\n",
      "/Users/ldmay/Box Sync/Learning/ISLR/Ch08\n",
      "/Users/ldmay/Box Sync/Learning/ISLR/Ch09\n",
      "/Users/ldmay/Box Sync/Learning/ISLR/Data sets\n",
      "/Users/ldmay/Box Sync/Learning/ISLR/Data sets/Bank Marketing\n",
      "/Users/ldmay/Box Sync/Learning/ISLR/Data sets/rda\n"
     ]
    }
   ],
   "source": [
    "find_directories('/Users/ldmay/Box Sync/Learning/ISLR', sorted = True)"
   ]
  },
  {
   "cell_type": "code",
   "execution_count": null,
   "metadata": {},
   "outputs": [],
   "source": []
  }
 ],
 "metadata": {
  "kernelspec": {
   "display_name": "Python 3",
   "language": "python",
   "name": "python3"
  },
  "language_info": {
   "codemirror_mode": {
    "name": "ipython",
    "version": 3
   },
   "file_extension": ".py",
   "mimetype": "text/x-python",
   "name": "python",
   "nbconvert_exporter": "python",
   "pygments_lexer": "ipython3",
   "version": "3.7.1"
  }
 },
 "nbformat": 4,
 "nbformat_minor": 2
}
