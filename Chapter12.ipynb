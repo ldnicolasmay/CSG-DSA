{
 "cells": [
  {
   "cell_type": "markdown",
   "metadata": {},
   "source": [
    "# Chapter 12 - Speeding Up All the Things with Binary Trees"
   ]
  },
  {
   "cell_type": "markdown",
   "metadata": {},
   "source": [
    "Ordered arrays are great because we can do binary search on them with $O(log N)$ efficiency. But, ordered arrays are slow when doing insertions and deletions.\n",
    "\n",
    "Hash tables are $O(1)$ for search, insertion, and deletion. But hash tables don't maintain order.\n",
    "\n",
    "What if we need/want a data structure that maintains order and _also_ has fast search, insertion, and deletion? Neither an ordered array nor a hash table is ideal.\n",
    "\n",
    "We turn to the binary tree."
   ]
  },
  {
   "cell_type": "markdown",
   "metadata": {},
   "source": [
    "## Binary Trees"
   ]
  },
  {
   "cell_type": "markdown",
   "metadata": {},
   "source": [
    "A tree is another node-based data structure. Like a linked list, a tree has nodes that connect to other nodes. But a tree is different because each node can have links to multiple nodes.\n",
    "\n",
    "Here's a depiction of a simple tree.\n",
    "\n",
    "<img src=\"imgs/binary_trees_Part1.png\">\n",
    "\n",
    "This depiction can be simplified a bit into this.\n",
    "\n",
    "<img src=\"imgs/binary_trees_Part2.png\">"
   ]
  },
  {
   "cell_type": "markdown",
   "metadata": {},
   "source": [
    "A _binary tree_ follows these rules:\n",
    "\n",
    "* Each node has either 0, 1, or 2 children nodes.\n",
    "* If a node has 2 children nodes, it must have one child node that holds a lesser value than the parent, and one child node that has a great value than the parent.\n",
    "\n",
    "Here's an example of a valid binary tree.\n",
    "\n",
    "<img src=\"imgs/binary_trees_Part4.png\">"
   ]
  },
  {
   "cell_type": "code",
   "execution_count": 1,
   "metadata": {},
   "outputs": [],
   "source": [
    "class TreeNode:\n",
    "    def __init__(self, \n",
    "                 init_data, \n",
    "                 init_left_node = None, \n",
    "                 init_right_node = None):\n",
    "        self.data = init_data\n",
    "        self.left_node = init_left_node\n",
    "        self.right_node = init_right_node\n",
    "    \n",
    "    def get_node_data(self):\n",
    "        return self.data\n",
    "    \n",
    "    def get_left_node(self):\n",
    "        return self.left_node\n",
    "    \n",
    "    def get_right_node(self):\n",
    "        return self.right_node\n",
    "        \n",
    "    def set_node_data(self, new_data):\n",
    "        self.data = data\n",
    "    \n",
    "    def set_left_node(self, new_left_node):\n",
    "        if new_left_node.get_node_data() < self.data:\n",
    "            self.left_node = new_left_node\n",
    "        else:\n",
    "            print(\"passed left child node is not less than parent node\")\n",
    "    \n",
    "    def set_right_node(self, new_right_node):\n",
    "        if new_right_node.get_node_data() > self.data:\n",
    "            self.right_node = new_right_node\n",
    "        else:\n",
    "            print(\"passed right child node is not more than parent node\")"
   ]
  },
  {
   "cell_type": "markdown",
   "metadata": {},
   "source": [
    "We can build a simple binary tree like this."
   ]
  },
  {
   "cell_type": "code",
   "execution_count": 2,
   "metadata": {},
   "outputs": [],
   "source": [
    "node_1 = TreeNode(1)"
   ]
  },
  {
   "cell_type": "code",
   "execution_count": 3,
   "metadata": {},
   "outputs": [],
   "source": [
    "node_2 = TreeNode(9)"
   ]
  },
  {
   "cell_type": "code",
   "execution_count": 4,
   "metadata": {},
   "outputs": [],
   "source": [
    "node_root = TreeNode(5)"
   ]
  },
  {
   "cell_type": "code",
   "execution_count": 5,
   "metadata": {},
   "outputs": [],
   "source": [
    "node_root.set_left_node(node_1)"
   ]
  },
  {
   "cell_type": "code",
   "execution_count": 6,
   "metadata": {},
   "outputs": [],
   "source": [
    "node_root.set_right_node(node_2)"
   ]
  },
  {
   "cell_type": "markdown",
   "metadata": {},
   "source": [
    "## Searching"
   ]
  },
  {
   "cell_type": "markdown",
   "metadata": {},
   "source": [
    "Here's the algorithm for searching a binary tree for a value starts at the root node:\n",
    "\n",
    "1. Inspect the value in the current node.\n",
    "2. If the value we're looking for is found, we're done!\n",
    "3. If the value we're looking for is less than the value in the current node, search for the value in the left subtree.\n",
    "4. If the value we're looking for is more than the value in the current node, search for the value in the right subtree."
   ]
  },
  {
   "cell_type": "code",
   "execution_count": 7,
   "metadata": {},
   "outputs": [],
   "source": [
    "def search(value, node):\n",
    "    # base case: if the node is nonexistant or\n",
    "    # we've found the value we're looking for\n",
    "    if node == None or node.get_node_data() == value:\n",
    "        return node\n",
    "    \n",
    "    # if the value is less than the current node,\n",
    "    # perform search on the left child\n",
    "    elif value < node.get_node_data():\n",
    "        return search(value, node.get_left_node())\n",
    "    \n",
    "    # if the value is more than the current node,\n",
    "    # perform search on the right child\n",
    "    else: # value > node.get_node_value()\n",
    "        return search(value, node.get_right_node())"
   ]
  },
  {
   "cell_type": "code",
   "execution_count": 8,
   "metadata": {},
   "outputs": [
    {
     "data": {
      "text/plain": [
       "<__main__.TreeNode at 0x10924a978>"
      ]
     },
     "execution_count": 8,
     "metadata": {},
     "output_type": "execute_result"
    }
   ],
   "source": [
    "search(1, node_root)"
   ]
  },
  {
   "cell_type": "code",
   "execution_count": 9,
   "metadata": {},
   "outputs": [
    {
     "data": {
      "text/plain": [
       "1"
      ]
     },
     "execution_count": 9,
     "metadata": {},
     "output_type": "execute_result"
    }
   ],
   "source": [
    "search(1, node_root).get_node_data()"
   ]
  },
  {
   "cell_type": "code",
   "execution_count": 10,
   "metadata": {},
   "outputs": [
    {
     "data": {
      "text/plain": [
       "<__main__.TreeNode at 0x10926e208>"
      ]
     },
     "execution_count": 10,
     "metadata": {},
     "output_type": "execute_result"
    }
   ],
   "source": [
    "search(5, node_root)"
   ]
  },
  {
   "cell_type": "code",
   "execution_count": 11,
   "metadata": {},
   "outputs": [
    {
     "data": {
      "text/plain": [
       "5"
      ]
     },
     "execution_count": 11,
     "metadata": {},
     "output_type": "execute_result"
    }
   ],
   "source": [
    "search(5, node_root).get_node_data()"
   ]
  },
  {
   "cell_type": "code",
   "execution_count": 12,
   "metadata": {},
   "outputs": [
    {
     "data": {
      "text/plain": [
       "<__main__.TreeNode at 0x10926e048>"
      ]
     },
     "execution_count": 12,
     "metadata": {},
     "output_type": "execute_result"
    }
   ],
   "source": [
    "search(9, node_root)"
   ]
  },
  {
   "cell_type": "code",
   "execution_count": 13,
   "metadata": {},
   "outputs": [
    {
     "data": {
      "text/plain": [
       "9"
      ]
     },
     "execution_count": 13,
     "metadata": {},
     "output_type": "execute_result"
    }
   ],
   "source": [
    "search(9, node_root).get_node_data()"
   ]
  },
  {
   "cell_type": "code",
   "execution_count": 14,
   "metadata": {},
   "outputs": [],
   "source": [
    "search(3, node_root)"
   ]
  },
  {
   "cell_type": "code",
   "execution_count": 15,
   "metadata": {},
   "outputs": [],
   "source": [
    "# Here I'm implementing a class that isn't in the book\n",
    "# It's a handle or container class for TreeNodes\n",
    "\n",
    "class BinaryTree:\n",
    "    def __init__(self, init_root_node = None):\n",
    "        self.root_node = init_root_node\n",
    "        \n",
    "    def search(self, value, node):\n",
    "        # base case\n",
    "        if node == None or\\\n",
    "        value == node.get_node_data():\n",
    "            return node\n",
    "\n",
    "        if value < node.get_node_data():\n",
    "            # print(\"look left\")\n",
    "            return self.search(value, node.get_left_node())\n",
    "        \n",
    "        if value > node.get_node_data():\n",
    "            # print(\"look right\")\n",
    "            return self.search(value, node.get_right_node())"
   ]
  },
  {
   "cell_type": "code",
   "execution_count": 16,
   "metadata": {},
   "outputs": [],
   "source": [
    "bt = BinaryTree(node_root)"
   ]
  },
  {
   "cell_type": "code",
   "execution_count": 17,
   "metadata": {},
   "outputs": [
    {
     "data": {
      "text/plain": [
       "<__main__.TreeNode at 0x10924a978>"
      ]
     },
     "execution_count": 17,
     "metadata": {},
     "output_type": "execute_result"
    }
   ],
   "source": [
    "bt.search(1, node_root)"
   ]
  },
  {
   "cell_type": "code",
   "execution_count": 18,
   "metadata": {},
   "outputs": [
    {
     "data": {
      "text/plain": [
       "<__main__.TreeNode at 0x10924a978>"
      ]
     },
     "execution_count": 18,
     "metadata": {},
     "output_type": "execute_result"
    }
   ],
   "source": [
    "bt.search(1, node_root)"
   ]
  },
  {
   "cell_type": "code",
   "execution_count": 19,
   "metadata": {},
   "outputs": [
    {
     "data": {
      "text/plain": [
       "1"
      ]
     },
     "execution_count": 19,
     "metadata": {},
     "output_type": "execute_result"
    }
   ],
   "source": [
    "bt.search(1, node_root).get_node_data()"
   ]
  },
  {
   "cell_type": "code",
   "execution_count": 20,
   "metadata": {},
   "outputs": [
    {
     "data": {
      "text/plain": [
       "<__main__.TreeNode at 0x10926e208>"
      ]
     },
     "execution_count": 20,
     "metadata": {},
     "output_type": "execute_result"
    }
   ],
   "source": [
    "bt.search(5, node_root)"
   ]
  },
  {
   "cell_type": "code",
   "execution_count": 21,
   "metadata": {},
   "outputs": [
    {
     "data": {
      "text/plain": [
       "5"
      ]
     },
     "execution_count": 21,
     "metadata": {},
     "output_type": "execute_result"
    }
   ],
   "source": [
    "bt.search(5, node_root).get_node_data()"
   ]
  },
  {
   "cell_type": "code",
   "execution_count": 22,
   "metadata": {},
   "outputs": [
    {
     "data": {
      "text/plain": [
       "<__main__.TreeNode at 0x10926e048>"
      ]
     },
     "execution_count": 22,
     "metadata": {},
     "output_type": "execute_result"
    }
   ],
   "source": [
    "bt.search(9, node_root)"
   ]
  },
  {
   "cell_type": "code",
   "execution_count": 23,
   "metadata": {},
   "outputs": [
    {
     "data": {
      "text/plain": [
       "9"
      ]
     },
     "execution_count": 23,
     "metadata": {},
     "output_type": "execute_result"
    }
   ],
   "source": [
    "bt.search(9, node_root).get_node_data()"
   ]
  },
  {
   "cell_type": "code",
   "execution_count": 24,
   "metadata": {},
   "outputs": [],
   "source": [
    "bt.search(3, node_root)"
   ]
  },
  {
   "cell_type": "markdown",
   "metadata": {},
   "source": [
    "## Insertion"
   ]
  },
  {
   "cell_type": "markdown",
   "metadata": {},
   "source": [
    "Insertion takes $log N + 1$ steps because it takes $log N$ steps to find the leaf node to the left or right of which the new node should be inserted, the $1$ step to insert the node.\n",
    "\n",
    "In contrast, insertion takes $N$ steps in an ordered array.\n",
    "\n",
    "This is what's great about binary trees... they have $O(log N)$ search and $O(log N)$ insertion. Ordered arrays have $O(log N)$ search but $O(N)$ insertion. This makes a big difference when you anticipate lots of changes to your data (like a database!)."
   ]
  },
  {
   "cell_type": "code",
   "execution_count": 25,
   "metadata": {},
   "outputs": [],
   "source": [
    "def insert(value, node):\n",
    "    if value < node.get_node_data():\n",
    "        # if left child node doesn't exist,\n",
    "        # insert our node as the left child\n",
    "        if node.get_left_node() == None:\n",
    "            node.set_left_node(TreeNode(value))\n",
    "        else:\n",
    "            insert(value, node.get_left_node())\n",
    "    \n",
    "    elif value > node.get_node_data():\n",
    "        # if right child node doesn't exist,\n",
    "        # insert our node as the right child\n",
    "        if node.get_right_node() == None:\n",
    "            node.set_right_node(TreeNode(value))\n",
    "        else:\n",
    "            insert(value, node.get_right_node())"
   ]
  },
  {
   "cell_type": "code",
   "execution_count": 26,
   "metadata": {},
   "outputs": [],
   "source": [
    "insert(7, node_root)"
   ]
  },
  {
   "cell_type": "code",
   "execution_count": 27,
   "metadata": {},
   "outputs": [
    {
     "data": {
      "text/plain": [
       "<__main__.TreeNode at 0x10924a978>"
      ]
     },
     "execution_count": 27,
     "metadata": {},
     "output_type": "execute_result"
    }
   ],
   "source": [
    "search(1, node_root)"
   ]
  },
  {
   "cell_type": "code",
   "execution_count": 28,
   "metadata": {},
   "outputs": [
    {
     "data": {
      "text/plain": [
       "1"
      ]
     },
     "execution_count": 28,
     "metadata": {},
     "output_type": "execute_result"
    }
   ],
   "source": [
    "search(1, node_root).get_node_data()"
   ]
  },
  {
   "cell_type": "code",
   "execution_count": 29,
   "metadata": {},
   "outputs": [
    {
     "data": {
      "text/plain": [
       "<__main__.TreeNode at 0x109262e80>"
      ]
     },
     "execution_count": 29,
     "metadata": {},
     "output_type": "execute_result"
    }
   ],
   "source": [
    "search(7, node_root)"
   ]
  },
  {
   "cell_type": "code",
   "execution_count": 30,
   "metadata": {},
   "outputs": [
    {
     "data": {
      "text/plain": [
       "7"
      ]
     },
     "execution_count": 30,
     "metadata": {},
     "output_type": "execute_result"
    }
   ],
   "source": [
    "search(7, node_root).get_node_data()"
   ]
  },
  {
   "cell_type": "code",
   "execution_count": 31,
   "metadata": {},
   "outputs": [],
   "source": [
    "search(3, node_root)"
   ]
  },
  {
   "cell_type": "markdown",
   "metadata": {},
   "source": [
    "Note that when creating a binary tree, it's best to create it from randomly sorted data so that it winds up well balanced. If it's already sorted we end up with a tree like this:\n",
    "\n",
    "<img src=\"imgs/binary_trees_Part14.png\">\n",
    "\n",
    "If this happens, we lose the efficiency of the binary tree. Instead of $O(log N)$ for searching and insertion, we get $O(N)$."
   ]
  },
  {
   "cell_type": "markdown",
   "metadata": {},
   "source": [
    "## Deletion"
   ]
  },
  {
   "cell_type": "markdown",
   "metadata": {},
   "source": [
    "Deletion takes some careful maneuvering.\n",
    "\n",
    "The algorithm for deletion from a binary tree is:\n",
    "\n",
    "1. If the node being deleted has no children, simply delete it.\n",
    "\n",
    "2. If the node being deleted has one child, delete it and plug the child into the spot where the deleted node was.\n",
    "\n",
    "3. When deleting a node with two children, replace the deleted node with the _successor_ node. The successor node is the child node whose value is the least of all values that are greater than the deleted node (right, left, left, left, ...).\n",
    "\n",
    "    a. If the successor node has a right child, after plugging the successor node into the spot of the deleted node, take the right child of the successor node and turn it into the left child of the parent of the successor node."
   ]
  },
  {
   "cell_type": "code",
   "execution_count": 32,
   "metadata": {},
   "outputs": [],
   "source": [
    "def delete(value_to_delete, node):\n",
    "    # base case: we've hit the bottom of the tree\n",
    "    # and the parent node has no children\n",
    "    if node == None:\n",
    "        return None\n",
    "    \n",
    "    # If the value we're deleting is less or greater than the\n",
    "    # current node, we set the left or right child respectively\n",
    "    # to be the return value of a recursive call of this same\n",
    "    # function on the current node's L or R subtree\n",
    "    elif value_to_delete < node.data:\n",
    "        node.left_node = \\\n",
    "        delete(value_to_delete, node.left_node)\n",
    "        return node\n",
    "    \n",
    "    elif value_to_delete > node.data:\n",
    "        node.right_node =\\\n",
    "        delete(value_to_delete, node.right_node)\n",
    "        return node\n",
    "    \n",
    "    # if the current node is the one we want to delete\n",
    "    elif value_to_delete == node.data:\n",
    "        \n",
    "        # if the current node has no left child, we delete it\n",
    "        # by returning its right child (and its subtree)\n",
    "        # to be its parents new subtree\n",
    "        if node.left_node == None:\n",
    "            return node.right_node\n",
    "            # if the current node has no left or right child,\n",
    "            # this ends up being None\n",
    "        \n",
    "        elif node.right_node == None:\n",
    "            return node.left_node\n",
    "        \n",
    "        # if the current node has two children, we delete the\n",
    "        # current node by calling the lift fxn, which changes\n",
    "        # the current node's value to the value of the\n",
    "        # successor node\n",
    "        else:\n",
    "            node.right_node = lift(node.right_node, node)\n",
    "            return node\n",
    "\n",
    "def lift(node, node_to_delete):\n",
    "    \n",
    "    # if the current node of this function has a left child,\n",
    "    # we recursively call this function to continue down the\n",
    "    # left subtree to find the successor node\n",
    "    if node.left_node != None:\n",
    "        node.left_node = lift(node.left_node, node_to_delete)\n",
    "        return node\n",
    "    # if the current node has no left child, that means the\n",
    "    # current node of this function is the successor node, and\n",
    "    # we take its value and make it the new value of the node\n",
    "    # that we're deleting\n",
    "    else:\n",
    "        node_to_delete.data = node.data"
   ]
  },
  {
   "cell_type": "code",
   "execution_count": 33,
   "metadata": {},
   "outputs": [
    {
     "data": {
      "text/plain": [
       "<__main__.TreeNode at 0x109262e80>"
      ]
     },
     "execution_count": 33,
     "metadata": {},
     "output_type": "execute_result"
    }
   ],
   "source": [
    "search(7, node_root)"
   ]
  },
  {
   "cell_type": "code",
   "execution_count": 34,
   "metadata": {},
   "outputs": [
    {
     "data": {
      "text/plain": [
       "7"
      ]
     },
     "execution_count": 34,
     "metadata": {},
     "output_type": "execute_result"
    }
   ],
   "source": [
    "search(7, node_root).get_node_data()"
   ]
  },
  {
   "cell_type": "code",
   "execution_count": 35,
   "metadata": {},
   "outputs": [
    {
     "data": {
      "text/plain": [
       "5"
      ]
     },
     "execution_count": 35,
     "metadata": {},
     "output_type": "execute_result"
    }
   ],
   "source": [
    "delete(7, node_root).get_node_data()"
   ]
  },
  {
   "cell_type": "code",
   "execution_count": 36,
   "metadata": {},
   "outputs": [],
   "source": [
    "search(7, node_root)"
   ]
  },
  {
   "cell_type": "markdown",
   "metadata": {},
   "source": [
    "Like searching and insertion, deletion is typically $O(log N)$. This is because deletion requires a search ($O(log N)$) plus a few extra steps to deal with hanging children. In contrast, deleting a value from an ordered array takes $O(N)$ time."
   ]
  },
  {
   "cell_type": "markdown",
   "metadata": {},
   "source": [
    "## Binary Trees in Action"
   ]
  },
  {
   "cell_type": "markdown",
   "metadata": {},
   "source": [
    "We need the ability to visit every single node in a binary tree... this is called _traversing_ the data structure.\n",
    "\n",
    "We also need to be able to traverse the tree in order (alphabetical, numerical, whatever). This is called an _inorder traversal_.\n",
    "\n",
    "We'll create a recursive function called `traverse` that performs these steps:\n",
    "\n",
    "1. Call itself on the node's left child it it has one.\n",
    "2. Visit the node. (Also print the node if we want output.)\n",
    "3. Call itself on the node's right child it it has one.\n",
    "\n",
    "The base case is when a node has no children. Then we simply print the node's data but don't call `traverse` again.\n",
    "\n",
    "The efficiency of `traverse` is $O(N)$. This makes sense since every node needs to be visited."
   ]
  },
  {
   "cell_type": "code",
   "execution_count": 37,
   "metadata": {},
   "outputs": [],
   "source": [
    "def traverse_and_print(node):\n",
    "    if node == None:\n",
    "        return\n",
    "    traverse_and_print(node.left_node)\n",
    "    print(node.data)\n",
    "    traverse_and_print(node.right_node)"
   ]
  },
  {
   "cell_type": "code",
   "execution_count": 38,
   "metadata": {},
   "outputs": [
    {
     "name": "stdout",
     "output_type": "stream",
     "text": [
      "1\n",
      "5\n",
      "9\n"
     ]
    }
   ],
   "source": [
    "traverse_and_print(node_root)"
   ]
  },
  {
   "cell_type": "code",
   "execution_count": 39,
   "metadata": {},
   "outputs": [],
   "source": [
    "insert(7, node_root)"
   ]
  },
  {
   "cell_type": "code",
   "execution_count": 40,
   "metadata": {},
   "outputs": [
    {
     "name": "stdout",
     "output_type": "stream",
     "text": [
      "1\n",
      "5\n",
      "7\n",
      "9\n"
     ]
    }
   ],
   "source": [
    "traverse_and_print(node_root)"
   ]
  },
  {
   "cell_type": "code",
   "execution_count": null,
   "metadata": {},
   "outputs": [],
   "source": []
  }
 ],
 "metadata": {
  "kernelspec": {
   "display_name": "Python 3",
   "language": "python",
   "name": "python3"
  },
  "language_info": {
   "codemirror_mode": {
    "name": "ipython",
    "version": 3
   },
   "file_extension": ".py",
   "mimetype": "text/x-python",
   "name": "python",
   "nbconvert_exporter": "python",
   "pygments_lexer": "ipython3",
   "version": "3.7.1"
  }
 },
 "nbformat": 4,
 "nbformat_minor": 2
}
