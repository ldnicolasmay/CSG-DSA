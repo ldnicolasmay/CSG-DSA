{
 "cells": [
  {
   "cell_type": "markdown",
   "metadata": {},
   "source": [
    "# Chapter 10: Recursive Algorithms for Speed "
   ]
  },
  {
   "cell_type": "markdown",
   "metadata": {},
   "source": [
    "## Partitioning + Quicksort"
   ]
  },
  {
   "cell_type": "code",
   "execution_count": 1,
   "metadata": {},
   "outputs": [],
   "source": [
    "class QuicksortArray:\n",
    "    \n",
    "    def __init__(self, array):\n",
    "        self.items = array\n",
    "    \n",
    "    def partition(self, left_pointer, right_pointer):\n",
    "        print(self.items)\n",
    "        print(self.items[left_pointer:right_pointer])\n",
    "        \n",
    "        # choose the right-most element as the pivot\n",
    "        pivot_position = right_pointer\n",
    "        pivot = self.items[pivot_position]\n",
    "        \n",
    "        # start the right ptr. just to the left of the pivot\n",
    "        right_pointer = right_pointer-1\n",
    "        \n",
    "        while True:\n",
    "            \n",
    "            while self.items[left_pointer] < pivot:\n",
    "                left_pointer = left_pointer+1\n",
    "        \n",
    "            while self.items[right_pointer] > pivot:\n",
    "                right_pointer = right_pointer-1\n",
    "                \n",
    "            if left_pointer >= right_pointer:\n",
    "                break\n",
    "            else:\n",
    "                self.swap(left_pointer, right_pointer)\n",
    "            \n",
    "        # final step, swap the left ptr. with the pivot\n",
    "        self.swap(left_pointer, pivot_position)\n",
    "        \n",
    "        # return the left_pointer for the sake of the quicksort \n",
    "        # method, which will appear later in the chapter\n",
    "        return(left_pointer)\n",
    "    \n",
    "    def swap(self, pointer_1, pointer_2):\n",
    "        self.items[pointer_1], self.items[pointer_2] =\\\n",
    "        self.items[pointer_2], self.items[pointer_1]\n",
    "        \n",
    "    def show(self):\n",
    "        print(self.items)\n",
    "        \n",
    "    def size(self):\n",
    "        return(len(self.items))\n",
    "        \n",
    "    def quicksort(self, left_index, right_index):        \n",
    "        #base case: the subarray has 0 or 1 elements\n",
    "        if right_index - left_index <= 0:\n",
    "            return\n",
    "        \n",
    "        # partition the array and grab the position of the pivot\n",
    "        pivot_position = self.partition(left_index, right_index)\n",
    "        print(\"left:\", self.items[left_index:pivot_position])\n",
    "        print(\"pivot:\", pivot_position, \n",
    "              '{}{}{}'.format(\"[\", self.items[pivot_position], \"]\"))\n",
    "        print(\"right:\", self.items[pivot_position+1:right_index+1])\n",
    "        print()\n",
    "        \n",
    "        # recursively call this quicksort method on whatever\n",
    "        # is to the left of the pivot\n",
    "        self.quicksort(left_index, pivot_position-1)\n",
    "        \n",
    "        # recursively call this quicksort method on whatever\n",
    "        # is to the right of the pivot\n",
    "        self.quicksort(pivot_position+1, right_index)"
   ]
  },
  {
   "cell_type": "code",
   "execution_count": 2,
   "metadata": {},
   "outputs": [],
   "source": [
    "qsa1 = QuicksortArray([0, 5, 2, 1, 6, 3])"
   ]
  },
  {
   "cell_type": "code",
   "execution_count": 3,
   "metadata": {},
   "outputs": [
    {
     "name": "stdout",
     "output_type": "stream",
     "text": [
      "[0, 5, 2, 1, 6, 3]\n"
     ]
    }
   ],
   "source": [
    "qsa1.show()"
   ]
  },
  {
   "cell_type": "code",
   "execution_count": 4,
   "metadata": {},
   "outputs": [
    {
     "name": "stdout",
     "output_type": "stream",
     "text": [
      "[0, 5, 2, 1, 6, 3]\n",
      "[0, 5, 2, 1, 6]\n",
      "left: [0, 1, 2]\n",
      "pivot: 3 [3]\n",
      "right: [6, 5]\n",
      "\n",
      "[0, 1, 2, 3, 6, 5]\n",
      "[0, 1]\n",
      "left: [0, 1]\n",
      "pivot: 2 [2]\n",
      "right: []\n",
      "\n",
      "[0, 1, 2, 3, 6, 5]\n",
      "[0]\n",
      "left: [0]\n",
      "pivot: 1 [1]\n",
      "right: []\n",
      "\n",
      "[0, 1, 2, 3, 6, 5]\n",
      "[6]\n",
      "left: []\n",
      "pivot: 4 [5]\n",
      "right: [6]\n",
      "\n"
     ]
    }
   ],
   "source": [
    "qsa1.quicksort(0, qsa1.size()-1)"
   ]
  },
  {
   "cell_type": "code",
   "execution_count": 5,
   "metadata": {},
   "outputs": [
    {
     "name": "stdout",
     "output_type": "stream",
     "text": [
      "[0, 1, 2, 3, 5, 6]\n"
     ]
    }
   ],
   "source": [
    "qsa1.show()"
   ]
  },
  {
   "cell_type": "code",
   "execution_count": 6,
   "metadata": {},
   "outputs": [],
   "source": [
    "qsa2 = QuicksortArray([28, 68, 86, 94, 64, 77, 40, 15, 79, 82, 11, 85, 32, 12, 22, 33, 31, 58, 21, 54])"
   ]
  },
  {
   "cell_type": "code",
   "execution_count": 7,
   "metadata": {},
   "outputs": [
    {
     "name": "stdout",
     "output_type": "stream",
     "text": [
      "[28, 68, 86, 94, 64, 77, 40, 15, 79, 82, 11, 85, 32, 12, 22, 33, 31, 58, 21, 54]\n",
      "[28, 68, 86, 94, 64, 77, 40, 15, 79, 82, 11, 85, 32, 12, 22, 33, 31, 58, 21]\n",
      "left: [28, 21, 31, 33, 22, 12, 40, 15, 32, 11]\n",
      "pivot: 10 [54]\n",
      "right: [85, 79, 77, 64, 94, 86, 58, 68, 82]\n",
      "\n",
      "[28, 21, 31, 33, 22, 12, 40, 15, 32, 11, 54, 85, 79, 77, 64, 94, 86, 58, 68, 82]\n",
      "[28, 21, 31, 33, 22, 12, 40, 15, 32]\n",
      "left: []\n",
      "pivot: 0 [11]\n",
      "right: [21, 31, 33, 22, 12, 40, 15, 32, 28]\n",
      "\n",
      "[11, 21, 31, 33, 22, 12, 40, 15, 32, 28, 54, 85, 79, 77, 64, 94, 86, 58, 68, 82]\n",
      "[21, 31, 33, 22, 12, 40, 15, 32]\n",
      "left: [21, 15, 12, 22]\n",
      "pivot: 5 [28]\n",
      "right: [40, 31, 32, 33]\n",
      "\n",
      "[11, 21, 15, 12, 22, 28, 40, 31, 32, 33, 54, 85, 79, 77, 64, 94, 86, 58, 68, 82]\n",
      "[21, 15, 12]\n",
      "left: [21, 15, 12]\n",
      "pivot: 4 [22]\n",
      "right: []\n",
      "\n",
      "[11, 21, 15, 12, 22, 28, 40, 31, 32, 33, 54, 85, 79, 77, 64, 94, 86, 58, 68, 82]\n",
      "[21, 15]\n",
      "left: []\n",
      "pivot: 1 [12]\n",
      "right: [15, 21]\n",
      "\n",
      "[11, 12, 15, 21, 22, 28, 40, 31, 32, 33, 54, 85, 79, 77, 64, 94, 86, 58, 68, 82]\n",
      "[15]\n",
      "left: [15]\n",
      "pivot: 3 [21]\n",
      "right: []\n",
      "\n",
      "[11, 12, 15, 21, 22, 28, 40, 31, 32, 33, 54, 85, 79, 77, 64, 94, 86, 58, 68, 82]\n",
      "[40, 31, 32]\n",
      "left: [32, 31]\n",
      "pivot: 8 [33]\n",
      "right: [40]\n",
      "\n",
      "[11, 12, 15, 21, 22, 28, 32, 31, 33, 40, 54, 85, 79, 77, 64, 94, 86, 58, 68, 82]\n",
      "[32]\n",
      "left: []\n",
      "pivot: 6 [31]\n",
      "right: [32]\n",
      "\n",
      "[11, 12, 15, 21, 22, 28, 31, 32, 33, 40, 54, 85, 79, 77, 64, 94, 86, 58, 68, 82]\n",
      "[85, 79, 77, 64, 94, 86, 58, 68]\n",
      "left: [68, 79, 77, 64, 58]\n",
      "pivot: 16 [82]\n",
      "right: [94, 85, 86]\n",
      "\n",
      "[11, 12, 15, 21, 22, 28, 31, 32, 33, 40, 54, 68, 79, 77, 64, 58, 82, 94, 85, 86]\n",
      "[68, 79, 77, 64]\n",
      "left: []\n",
      "pivot: 11 [58]\n",
      "right: [79, 77, 64, 68]\n",
      "\n",
      "[11, 12, 15, 21, 22, 28, 31, 32, 33, 40, 54, 58, 79, 77, 64, 68, 82, 94, 85, 86]\n",
      "[79, 77, 64]\n",
      "left: [64]\n",
      "pivot: 13 [68]\n",
      "right: [79, 77]\n",
      "\n",
      "[11, 12, 15, 21, 22, 28, 31, 32, 33, 40, 54, 58, 64, 68, 79, 77, 82, 94, 85, 86]\n",
      "[79]\n",
      "left: []\n",
      "pivot: 14 [77]\n",
      "right: [79]\n",
      "\n",
      "[11, 12, 15, 21, 22, 28, 31, 32, 33, 40, 54, 58, 64, 68, 77, 79, 82, 94, 85, 86]\n",
      "[94, 85]\n",
      "left: [85]\n",
      "pivot: 18 [86]\n",
      "right: [94]\n",
      "\n"
     ]
    }
   ],
   "source": [
    "qsa2.quicksort(0, qsa2.size()-1)"
   ]
  },
  {
   "cell_type": "code",
   "execution_count": 8,
   "metadata": {},
   "outputs": [
    {
     "name": "stdout",
     "output_type": "stream",
     "text": [
      "[11, 12, 15, 21, 22, 28, 31, 32, 33, 40, 54, 58, 64, 68, 77, 79, 82, 85, 86, 94]\n"
     ]
    }
   ],
   "source": [
    "qsa2.show()"
   ]
  },
  {
   "cell_type": "code",
   "execution_count": 9,
   "metadata": {},
   "outputs": [
    {
     "data": {
      "text/plain": [
       "20"
      ]
     },
     "execution_count": 9,
     "metadata": {},
     "output_type": "execute_result"
    }
   ],
   "source": [
    "qsa2.size()"
   ]
  },
  {
   "cell_type": "code",
   "execution_count": 10,
   "metadata": {},
   "outputs": [
    {
     "data": {
      "text/plain": [
       "2"
      ]
     },
     "execution_count": 10,
     "metadata": {},
     "output_type": "execute_result"
    }
   ],
   "source": [
    "[0,1,2][-1]"
   ]
  },
  {
   "cell_type": "markdown",
   "metadata": {},
   "source": [
    "## Quickselect"
   ]
  },
  {
   "cell_type": "markdown",
   "metadata": {},
   "source": [
    "Let's say that you have an array in random (unsorted) order, and you do not to sort it, but you do want to know the tenth-lowest value in the array, or the fifth-highest. This can be useful for finding percentile values or medians.\n",
    "\n",
    "It turns out we don't _have_ to sort the array thanks to the \"quickselect\" algorithm. It's like a hybrid of quicksort and binary search.\n",
    "\n",
    "With quickselect, for every time we cut the array in half, we only need to partition the one half that we care about -- the half in which we know our value will be found."
   ]
  },
  {
   "cell_type": "code",
   "execution_count": 68,
   "metadata": {},
   "outputs": [],
   "source": [
    "class QuicksortArray:\n",
    "    \n",
    "    def __init__(self, array):\n",
    "        self.items = array\n",
    "    \n",
    "    def partition(self, left_pointer, right_pointer):\n",
    "        # print(self.items)\n",
    "        # print(self.items[left_pointer:right_pointer])\n",
    "        \n",
    "        # choose the right-most element as the pivot\n",
    "        pivot_position = right_pointer\n",
    "        pivot = self.items[pivot_position]\n",
    "        \n",
    "        # start the right ptr. just to the left of the pivot\n",
    "        right_pointer = right_pointer-1\n",
    "        \n",
    "        while True:\n",
    "            \n",
    "            while self.items[left_pointer] < pivot:\n",
    "                left_pointer = left_pointer+1\n",
    "        \n",
    "            while self.items[right_pointer] > pivot:\n",
    "                right_pointer = right_pointer-1\n",
    "                \n",
    "            if left_pointer >= right_pointer:\n",
    "                break\n",
    "            else:\n",
    "                self.swap(left_pointer, right_pointer)\n",
    "            \n",
    "        # final step, swap the left ptr. with the pivot\n",
    "        self.swap(left_pointer, pivot_position)\n",
    "        \n",
    "        # return the left_pointer for the sake of the quicksort \n",
    "        # method, which will appear later in the chapter\n",
    "        return(left_pointer)\n",
    "    \n",
    "    def swap(self, pointer_1, pointer_2):\n",
    "        self.items[pointer_1], self.items[pointer_2] =\\\n",
    "        self.items[pointer_2], self.items[pointer_1]\n",
    "        \n",
    "    def show(self):\n",
    "        print(self.items)\n",
    "        \n",
    "    def size(self):\n",
    "        return(len(self.items))\n",
    "        \n",
    "    def quicksort(self, left_index, right_index):        \n",
    "        #base case: the subarray has 0 or 1 elements\n",
    "        if right_index - left_index <= 0:\n",
    "            return\n",
    "        \n",
    "        # partition the array and grab the position of the pivot\n",
    "        pivot_position = self.partition(left_index, right_index)\n",
    "        # print(\"left:\", self.items[left_index:pivot_position])\n",
    "        # print(\"pivot:\", pivot_position, \n",
    "        #       '{}{}{}'.format(\"[\", self.items[pivot_position], \"]\"))\n",
    "        # print(\"right:\", self.items[pivot_position+1:right_index+1])\n",
    "        # print()\n",
    "        \n",
    "        # recursively call this quicksort method on whatever\n",
    "        # is to the left of the pivot\n",
    "        self.quicksort(left_index, pivot_position-1)\n",
    "        \n",
    "        # recursively call this quicksort method on whatever\n",
    "        # is to the right of the pivot\n",
    "        self.quicksort(pivot_position+1, right_index)\n",
    "        \n",
    "    def quickselect(self, kth_lowest_value, left_index, right_index):\n",
    "        # If we reach the base case (the subarray has one cell)\n",
    "        # then we know we've found the value we're looking for\n",
    "        if right_index - left_index <= 0:\n",
    "            return self.items[left_index]\n",
    "        \n",
    "        # partition the array and grab the position of the pivot\n",
    "        pivot_position = self.partition(left_index, right_index)\n",
    "                \n",
    "        # if kth_lowest_value == pivot_position:\n",
    "            # return self.items[pivot_position]\n",
    "        # elif kth_lowest_value < pivot_position:\n",
    "            # return self.quickselect(kth_lowest_value, left_index, pivot_position-1)\n",
    "        # elif kth_lowest_value > pivot_position:\n",
    "            # return self.quickselect(kth_lowest_value, pivot_position+1, right_index)\n",
    "        \n",
    "        if kth_lowest_value < pivot_position:\n",
    "            return self.quickselect(kth_lowest_value, left_index, pivot_position-1)\n",
    "        elif kth_lowest_value > pivot_position:\n",
    "            return self.quickselect(kth_lowest_value, pivot_position+1, right_index)\n",
    "        else: # kth_lowest_value == pivot_position\n",
    "            return self.items[pivot_position]"
   ]
  },
  {
   "cell_type": "code",
   "execution_count": 69,
   "metadata": {},
   "outputs": [],
   "source": [
    "qsa3 = QuicksortArray([0, 50, 20, 40, 10, 60, 30])"
   ]
  },
  {
   "cell_type": "code",
   "execution_count": 70,
   "metadata": {},
   "outputs": [
    {
     "data": {
      "text/plain": [
       "0"
      ]
     },
     "execution_count": 70,
     "metadata": {},
     "output_type": "execute_result"
    }
   ],
   "source": [
    "qsa3.quickselect(0, 0, qsa3.size()-1)"
   ]
  },
  {
   "cell_type": "code",
   "execution_count": 71,
   "metadata": {},
   "outputs": [],
   "source": [
    "qsa3 = QuicksortArray([0, 50, 20, 40, 10, 60, 30])"
   ]
  },
  {
   "cell_type": "code",
   "execution_count": 72,
   "metadata": {},
   "outputs": [
    {
     "data": {
      "text/plain": [
       "10"
      ]
     },
     "execution_count": 72,
     "metadata": {},
     "output_type": "execute_result"
    }
   ],
   "source": [
    "qsa3.quickselect(1, 0, qsa3.size()-1)"
   ]
  },
  {
   "cell_type": "code",
   "execution_count": 73,
   "metadata": {},
   "outputs": [],
   "source": [
    "qsa3 = QuicksortArray([0, 50, 20, 40, 10, 60, 30])"
   ]
  },
  {
   "cell_type": "code",
   "execution_count": 74,
   "metadata": {},
   "outputs": [
    {
     "data": {
      "text/plain": [
       "20"
      ]
     },
     "execution_count": 74,
     "metadata": {},
     "output_type": "execute_result"
    }
   ],
   "source": [
    "qsa3.quickselect(2, 0, qsa3.size()-1)"
   ]
  },
  {
   "cell_type": "code",
   "execution_count": 75,
   "metadata": {},
   "outputs": [],
   "source": [
    "qsa3 = QuicksortArray([0, 50, 20, 40, 10, 60, 30])"
   ]
  },
  {
   "cell_type": "code",
   "execution_count": 76,
   "metadata": {},
   "outputs": [
    {
     "data": {
      "text/plain": [
       "30"
      ]
     },
     "execution_count": 76,
     "metadata": {},
     "output_type": "execute_result"
    }
   ],
   "source": [
    "qsa3.quickselect(3, 0, qsa3.size()-1)"
   ]
  },
  {
   "cell_type": "code",
   "execution_count": null,
   "metadata": {},
   "outputs": [],
   "source": []
  }
 ],
 "metadata": {
  "kernelspec": {
   "display_name": "Python 3",
   "language": "python",
   "name": "python3"
  },
  "language_info": {
   "codemirror_mode": {
    "name": "ipython",
    "version": 3
   },
   "file_extension": ".py",
   "mimetype": "text/x-python",
   "name": "python",
   "nbconvert_exporter": "python",
   "pygments_lexer": "ipython3",
   "version": "3.7.1"
  }
 },
 "nbformat": 4,
 "nbformat_minor": 2
}
