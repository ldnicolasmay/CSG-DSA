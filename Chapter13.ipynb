{
 "cells": [
  {
   "cell_type": "markdown",
   "metadata": {},
   "source": [
    "# Chapter 13 - Connecting Everything with Graphs"
   ]
  },
  {
   "cell_type": "markdown",
   "metadata": {},
   "source": [
    "## Graphs"
   ]
  },
  {
   "cell_type": "markdown",
   "metadata": {},
   "source": [
    "Here's an non-directed graph (like Facebook friends).\n",
    "\n",
    "<img src=\"imgs/graphs_Part1.png\">\n",
    "\n",
    "Here's a directed graph (like Twitter follows).\n",
    "\n",
    "<img src=\"imgs/graphs_Part2.png\">\n",
    "\n",
    "Hash tables are one of the simplest ways to implement a graph."
   ]
  },
  {
   "cell_type": "code",
   "execution_count": 1,
   "metadata": {},
   "outputs": [],
   "source": [
    "# non-directed graph hash table (like Facebook friends)\n",
    "friends = {\n",
    "    'Alice'   : ['Bob', 'Diana', 'Fred'],\n",
    "    'Bob'     : ['Alice', 'Cynthia', 'Diana'],\n",
    "    'Cynthia' : ['Bob'],\n",
    "    'Diana'   : ['Alice', 'Bob', 'Fred'],\n",
    "    'Elise'   : ['Fred'],\n",
    "    'Fred'    : ['Alice', 'Diana', 'Elise']\n",
    "}"
   ]
  },
  {
   "cell_type": "markdown",
   "metadata": {},
   "source": [
    "We can look up a person's friends with $O(1)$ efficiency."
   ]
  },
  {
   "cell_type": "code",
   "execution_count": 2,
   "metadata": {},
   "outputs": [
    {
     "data": {
      "text/plain": [
       "['Bob', 'Diana', 'Fred']"
      ]
     },
     "execution_count": 2,
     "metadata": {},
     "output_type": "execute_result"
    }
   ],
   "source": [
    "friends['Alice']"
   ]
  },
  {
   "cell_type": "code",
   "execution_count": 3,
   "metadata": {},
   "outputs": [],
   "source": [
    "# directed graph hash table (like Twitter follows)\n",
    "followees = {\n",
    "    'Alice'   : ['Bob', 'Cynthia'],\n",
    "    'Bob'     : ['Cynthia'],\n",
    "    'Cynthia' : ['Bob']\n",
    "}"
   ]
  },
  {
   "cell_type": "code",
   "execution_count": 4,
   "metadata": {},
   "outputs": [
    {
     "data": {
      "text/plain": [
       "['Bob']"
      ]
     },
     "execution_count": 4,
     "metadata": {},
     "output_type": "execute_result"
    }
   ],
   "source": [
    "followees['Cynthia']"
   ]
  },
  {
   "cell_type": "code",
   "execution_count": 5,
   "metadata": {},
   "outputs": [],
   "source": [
    "class Person:\n",
    "    def __init__(self, init_name):\n",
    "        self.name = init_name\n",
    "        self.friends = []\n",
    "    \n",
    "    def add_friend(self, friend):\n",
    "        self.friends.append(friend)"
   ]
  },
  {
   "cell_type": "code",
   "execution_count": 6,
   "metadata": {},
   "outputs": [],
   "source": [
    "alice = Person('Alice')"
   ]
  },
  {
   "cell_type": "code",
   "execution_count": 7,
   "metadata": {},
   "outputs": [
    {
     "data": {
      "text/plain": [
       "'Alice'"
      ]
     },
     "execution_count": 7,
     "metadata": {},
     "output_type": "execute_result"
    }
   ],
   "source": [
    "alice.name"
   ]
  },
  {
   "cell_type": "code",
   "execution_count": 8,
   "metadata": {},
   "outputs": [],
   "source": [
    "bob = Person('Bob')"
   ]
  },
  {
   "cell_type": "code",
   "execution_count": 9,
   "metadata": {},
   "outputs": [
    {
     "data": {
      "text/plain": [
       "'Bob'"
      ]
     },
     "execution_count": 9,
     "metadata": {},
     "output_type": "execute_result"
    }
   ],
   "source": [
    "bob.name"
   ]
  },
  {
   "cell_type": "code",
   "execution_count": 10,
   "metadata": {},
   "outputs": [],
   "source": [
    "alice.add_friend(bob)"
   ]
  },
  {
   "cell_type": "code",
   "execution_count": 11,
   "metadata": {},
   "outputs": [
    {
     "data": {
      "text/plain": [
       "[<__main__.Person at 0x110ee67b8>]"
      ]
     },
     "execution_count": 11,
     "metadata": {},
     "output_type": "execute_result"
    }
   ],
   "source": [
    "alice.friends"
   ]
  },
  {
   "cell_type": "code",
   "execution_count": 12,
   "metadata": {},
   "outputs": [
    {
     "data": {
      "text/plain": [
       "1"
      ]
     },
     "execution_count": 12,
     "metadata": {},
     "output_type": "execute_result"
    }
   ],
   "source": [
    "len(alice.friends)"
   ]
  },
  {
   "cell_type": "code",
   "execution_count": 13,
   "metadata": {},
   "outputs": [
    {
     "data": {
      "text/plain": [
       "0"
      ]
     },
     "execution_count": 13,
     "metadata": {},
     "output_type": "execute_result"
    }
   ],
   "source": [
    "len(bob.friends)"
   ]
  },
  {
   "cell_type": "code",
   "execution_count": 14,
   "metadata": {},
   "outputs": [
    {
     "name": "stdout",
     "output_type": "stream",
     "text": [
      "Bob\n"
     ]
    }
   ],
   "source": [
    "for f in alice.friends:\n",
    "    print(f.name)\n",
    "    if len(f.friends) > 0:\n",
    "        for sub_f in f.friends:\n",
    "            print(sub_f.name)"
   ]
  },
  {
   "cell_type": "markdown",
   "metadata": {},
   "source": [
    "## Breadth-First Search"
   ]
  },
  {
   "cell_type": "markdown",
   "metadata": {},
   "source": [
    "<img src=\"imgs/graphs_Part5.png\">"
   ]
  },
  {
   "cell_type": "code",
   "execution_count": 15,
   "metadata": {},
   "outputs": [],
   "source": [
    "class Person:\n",
    "    def __init__(self, init_name):\n",
    "        self.name = init_name\n",
    "        self.friends = []\n",
    "        self.visited = False\n",
    "    \n",
    "    def add_friend(self, friend):\n",
    "        self.friends.append(friend)\n",
    "    \n",
    "    def display_network(self):\n",
    "        # we keep track of every node we ever visit, so we can\n",
    "        # reset their 'visited' attribute back to false after\n",
    "        # our algoritm is complete\n",
    "        to_reset = [self]\n",
    "        \n",
    "        # create the queue\n",
    "        # it starts out containing the root vertex\n",
    "        queue = [self]\n",
    "        self.visited = True\n",
    "        \n",
    "        while len(queue) != 0:\n",
    "            # the current vertex is whatever is \n",
    "            # removed from the queue\n",
    "            current_vertex = queue.pop(0)\n",
    "            print(current_vertex.name)\n",
    "            #for q in queue:\n",
    "            #    print(\" \", q.name, end = '')\n",
    "            #print()\n",
    "            \n",
    "            # we add all adjacent vertices of the current vertex\n",
    "            # to the queue\n",
    "            for friend in current_vertex.friends:\n",
    "                if friend.visited == False:\n",
    "                    to_reset.append(friend)\n",
    "                    queue.append(friend)\n",
    "                    friend.visited = True\n",
    "                    \n",
    "        for node in to_reset:\n",
    "            node.visited = False"
   ]
  },
  {
   "cell_type": "code",
   "execution_count": 16,
   "metadata": {},
   "outputs": [],
   "source": [
    "# create Persons\n",
    "alice  = Person('Alice')\n",
    "bob    = Person('Bob')\n",
    "candy  = Person('Candy')\n",
    "derek  = Person('Derek')\n",
    "elaine = Person('Elaine')\n",
    "fred   = Person('Fred')\n",
    "gina   = Person('Gina')\n",
    "helen  = Person('Helen')\n",
    "irena  = Person('Irena')"
   ]
  },
  {
   "cell_type": "code",
   "execution_count": 17,
   "metadata": {},
   "outputs": [],
   "source": [
    "# add Alice's friends\n",
    "alice.add_friend(bob)\n",
    "alice.add_friend(candy)\n",
    "alice.add_friend(derek)\n",
    "alice.add_friend(elaine)"
   ]
  },
  {
   "cell_type": "code",
   "execution_count": 18,
   "metadata": {},
   "outputs": [],
   "source": [
    "# add Bob's friends\n",
    "bob.add_friend(alice)\n",
    "bob.add_friend(fred)\n",
    "#bob.add_friend(irena)"
   ]
  },
  {
   "cell_type": "code",
   "execution_count": 19,
   "metadata": {},
   "outputs": [],
   "source": [
    "# add Candy's friends\n",
    "candy.add_friend(alice)"
   ]
  },
  {
   "cell_type": "code",
   "execution_count": 20,
   "metadata": {},
   "outputs": [],
   "source": [
    "# add Derek's friends\n",
    "derek.add_friend(alice)\n",
    "derek.add_friend(gina)\n",
    "#derek.add_friend(helen)"
   ]
  },
  {
   "cell_type": "code",
   "execution_count": 21,
   "metadata": {},
   "outputs": [],
   "source": [
    "# add Elaine's friends\n",
    "elaine.add_friend(alice)"
   ]
  },
  {
   "cell_type": "code",
   "execution_count": 22,
   "metadata": {},
   "outputs": [],
   "source": [
    "# add Fred's friends\n",
    "fred.add_friend(bob)\n",
    "fred.add_friend(helen)"
   ]
  },
  {
   "cell_type": "code",
   "execution_count": 23,
   "metadata": {},
   "outputs": [],
   "source": [
    "# add Gina's friends\n",
    "gina.add_friend(derek)\n",
    "gina.add_friend(irena)"
   ]
  },
  {
   "cell_type": "code",
   "execution_count": 24,
   "metadata": {},
   "outputs": [],
   "source": [
    "# add Helen's friends\n",
    "helen.add_friend(fred)"
   ]
  },
  {
   "cell_type": "code",
   "execution_count": 25,
   "metadata": {},
   "outputs": [],
   "source": [
    "# add Irena's friends\n",
    "irena.add_friend(gina)"
   ]
  },
  {
   "cell_type": "code",
   "execution_count": 26,
   "metadata": {},
   "outputs": [
    {
     "data": {
      "text/plain": [
       "'Alice'"
      ]
     },
     "execution_count": 26,
     "metadata": {},
     "output_type": "execute_result"
    }
   ],
   "source": [
    "alice.name"
   ]
  },
  {
   "cell_type": "code",
   "execution_count": 27,
   "metadata": {},
   "outputs": [
    {
     "data": {
      "text/plain": [
       "[<__main__.Person at 0x110f0d3c8>,\n",
       " <__main__.Person at 0x110ee65c0>,\n",
       " <__main__.Person at 0x110f0d5c0>,\n",
       " <__main__.Person at 0x110f0d5f8>]"
      ]
     },
     "execution_count": 27,
     "metadata": {},
     "output_type": "execute_result"
    }
   ],
   "source": [
    "alice.friends"
   ]
  },
  {
   "cell_type": "code",
   "execution_count": 28,
   "metadata": {},
   "outputs": [
    {
     "name": "stdout",
     "output_type": "stream",
     "text": [
      "Bob\n",
      "Candy\n",
      "Derek\n",
      "Elaine\n"
     ]
    }
   ],
   "source": [
    "for friend in alice.friends:\n",
    "    print(friend.name)"
   ]
  },
  {
   "cell_type": "code",
   "execution_count": 29,
   "metadata": {},
   "outputs": [
    {
     "data": {
      "text/plain": [
       "False"
      ]
     },
     "execution_count": 29,
     "metadata": {},
     "output_type": "execute_result"
    }
   ],
   "source": [
    "alice.visited"
   ]
  },
  {
   "cell_type": "code",
   "execution_count": 30,
   "metadata": {},
   "outputs": [
    {
     "name": "stdout",
     "output_type": "stream",
     "text": [
      "Alice\n",
      "Fred\n"
     ]
    }
   ],
   "source": [
    "for friend in bob.friends:\n",
    "    print(friend.name)"
   ]
  },
  {
   "cell_type": "code",
   "execution_count": 31,
   "metadata": {},
   "outputs": [
    {
     "name": "stdout",
     "output_type": "stream",
     "text": [
      "Alice\n",
      "Bob\n",
      "Candy\n",
      "Derek\n",
      "Elaine\n",
      "Fred\n",
      "Gina\n",
      "Helen\n",
      "Irena\n"
     ]
    }
   ],
   "source": [
    "alice.display_network()"
   ]
  },
  {
   "cell_type": "code",
   "execution_count": 32,
   "metadata": {},
   "outputs": [
    {
     "name": "stdout",
     "output_type": "stream",
     "text": [
      "Bob\n",
      "Alice\n",
      "Fred\n",
      "Candy\n",
      "Derek\n",
      "Elaine\n",
      "Helen\n",
      "Gina\n",
      "Irena\n"
     ]
    }
   ],
   "source": [
    "bob.display_network()"
   ]
  },
  {
   "cell_type": "code",
   "execution_count": 33,
   "metadata": {},
   "outputs": [
    {
     "name": "stdout",
     "output_type": "stream",
     "text": [
      "Candy\n",
      "Alice\n",
      "Bob\n",
      "Derek\n",
      "Elaine\n",
      "Fred\n",
      "Gina\n",
      "Helen\n",
      "Irena\n"
     ]
    }
   ],
   "source": [
    "candy.display_network()"
   ]
  },
  {
   "cell_type": "code",
   "execution_count": 34,
   "metadata": {},
   "outputs": [
    {
     "name": "stdout",
     "output_type": "stream",
     "text": [
      "Derek\n",
      "Alice\n",
      "Gina\n",
      "Bob\n",
      "Candy\n",
      "Elaine\n",
      "Irena\n",
      "Fred\n",
      "Helen\n"
     ]
    }
   ],
   "source": [
    "derek.display_network()"
   ]
  },
  {
   "cell_type": "markdown",
   "metadata": {},
   "source": [
    "The efficiency of breadth-first search in our graph can be calculated by breaking down the algorithm's steps into two types:\n",
    "\n",
    "* We remove the vertex from the queue to designate it as the current vertex.\n",
    "* For each current vertex, we visit each of its adjacent vertices.\n",
    "\n",
    "Each vertex is removed from the queue once. That's called $O(V)$ in Big O notation.\n",
    "\n",
    "The number of times we visit adjacent vertices for each vertex is 2 times. So each edge gets used twice. That's $O(2E)$ => $O(E)$.\n",
    "\n",
    "So, the breadth-first search has an efficiency of $O(V + E)$."
   ]
  },
  {
   "cell_type": "code",
   "execution_count": 35,
   "metadata": {},
   "outputs": [],
   "source": [
    "class Person:\n",
    "    def __init__(self, init_name):\n",
    "        self.name = init_name\n",
    "        self.friends = []\n",
    "        self.visited = False\n",
    "    \n",
    "    def add_friend(self, friend):\n",
    "        self.friends.append(friend)\n",
    "    \n",
    "    def display_network(self):\n",
    "        # we keep track of every node we ever visit, so we can\n",
    "        # reset their 'visited' attribute back to false after\n",
    "        # our algoritm is complete\n",
    "        to_reset = [self]\n",
    "        \n",
    "        # create the queue\n",
    "        # it starts out containing the root vertex\n",
    "        queue = [self]\n",
    "        self.visited = True\n",
    "        \n",
    "        while len(queue) != 0:\n",
    "            # the current vertex is whatever is \n",
    "            # removed from the queue\n",
    "            current_vertex = queue.pop(0)\n",
    "            print(current_vertex.name)\n",
    "            #for q in queue:\n",
    "            #    print(\" \", q.name, end = '')\n",
    "            #print()\n",
    "            \n",
    "            # we add all adjacent vertices of the current vertex\n",
    "            # to the queue\n",
    "            for friend in current_vertex.friends:\n",
    "                if friend.visited == False:\n",
    "                    to_reset.append(friend)\n",
    "                    queue.append(friend)\n",
    "                    friend.visited = True\n",
    "                    \n",
    "        for node in to_reset:\n",
    "            node.visited = False\n",
    "\n",
    "    def display_network_depth(self, depth):\n",
    "        \n",
    "        # current_vertex = self\n",
    "        \n",
    "        if depth > 0:\n",
    "            for friend in self.friends:\n",
    "                print(friend.name)\n",
    "                friend.display_network_depth(depth - 1)\n",
    "            "
   ]
  },
  {
   "cell_type": "code",
   "execution_count": 36,
   "metadata": {},
   "outputs": [],
   "source": [
    "# create Persons\n",
    "alice  = Person('Alice')\n",
    "bob    = Person('Bob')\n",
    "candy  = Person('Candy')\n",
    "derek  = Person('Derek')\n",
    "elaine = Person('Elaine')\n",
    "fred   = Person('Fred')\n",
    "gina   = Person('Gina')\n",
    "helen  = Person('Helen')\n",
    "irena  = Person('Irena')"
   ]
  },
  {
   "cell_type": "code",
   "execution_count": 37,
   "metadata": {},
   "outputs": [],
   "source": [
    "# add Alice's friends\n",
    "alice.add_friend(bob)\n",
    "alice.add_friend(candy)\n",
    "alice.add_friend(derek)\n",
    "alice.add_friend(elaine)\n",
    "\n",
    "# add Bob's friends\n",
    "bob.add_friend(alice)\n",
    "bob.add_friend(fred)\n",
    "\n",
    "# add Candy's friends\n",
    "candy.add_friend(alice)\n",
    "\n",
    "# add Derek's friends\n",
    "derek.add_friend(alice)\n",
    "derek.add_friend(gina)\n",
    "\n",
    "# add Elaine's friends\n",
    "elaine.add_friend(alice)\n",
    "\n",
    "# add Fred's friends\n",
    "fred.add_friend(bob)\n",
    "fred.add_friend(helen)\n",
    "\n",
    "# add Gina's friends\n",
    "gina.add_friend(derek)\n",
    "gina.add_friend(irena)\n",
    "\n",
    "# add Helen's friends\n",
    "helen.add_friend(fred)\n",
    "\n",
    "# add Irena's friends\n",
    "irena.add_friend(gina)"
   ]
  },
  {
   "cell_type": "code",
   "execution_count": 38,
   "metadata": {},
   "outputs": [
    {
     "name": "stdout",
     "output_type": "stream",
     "text": [
      "Bob\n",
      "Candy\n",
      "Derek\n",
      "Elaine\n"
     ]
    }
   ],
   "source": [
    "alice.display_network_depth(1)"
   ]
  },
  {
   "cell_type": "code",
   "execution_count": 39,
   "metadata": {},
   "outputs": [
    {
     "name": "stdout",
     "output_type": "stream",
     "text": [
      "Alice\n",
      "Fred\n"
     ]
    }
   ],
   "source": [
    "bob.display_network_depth(1)"
   ]
  },
  {
   "cell_type": "code",
   "execution_count": 40,
   "metadata": {},
   "outputs": [
    {
     "name": "stdout",
     "output_type": "stream",
     "text": [
      "Bob\n",
      "Alice\n",
      "Fred\n",
      "Candy\n",
      "Alice\n",
      "Derek\n",
      "Alice\n",
      "Gina\n",
      "Elaine\n",
      "Alice\n"
     ]
    }
   ],
   "source": [
    "alice.display_network_depth(2)"
   ]
  },
  {
   "cell_type": "markdown",
   "metadata": {},
   "source": [
    "Come back to this at a later time. The point now is to do a survey of basic data structures / algorithms."
   ]
  },
  {
   "cell_type": "markdown",
   "metadata": {},
   "source": [
    "## Weighted Graphs"
   ]
  },
  {
   "cell_type": "code",
   "execution_count": 41,
   "metadata": {},
   "outputs": [],
   "source": [
    "class City:\n",
    "    def __init__(self, init_name):\n",
    "        self.name = init_name\n",
    "        self.routes = {} # hash table instead of array\n",
    "    \n",
    "    def add_route(self, city, price):\n",
    "        self.routes[city] = price"
   ]
  },
  {
   "cell_type": "code",
   "execution_count": 42,
   "metadata": {},
   "outputs": [],
   "source": [
    "dallas = City('Dallas')"
   ]
  },
  {
   "cell_type": "code",
   "execution_count": 43,
   "metadata": {},
   "outputs": [],
   "source": [
    "toronto = City('Toronto')"
   ]
  },
  {
   "cell_type": "code",
   "execution_count": 44,
   "metadata": {},
   "outputs": [],
   "source": [
    "louisville = City('Louisville')"
   ]
  },
  {
   "cell_type": "code",
   "execution_count": 45,
   "metadata": {},
   "outputs": [],
   "source": [
    "dallas.add_route(toronto, 138)"
   ]
  },
  {
   "cell_type": "code",
   "execution_count": 46,
   "metadata": {},
   "outputs": [],
   "source": [
    "dallas.add_route(louisville, 342)"
   ]
  },
  {
   "cell_type": "code",
   "execution_count": 47,
   "metadata": {},
   "outputs": [],
   "source": [
    "toronto.add_route(dallas, 216)"
   ]
  },
  {
   "cell_type": "code",
   "execution_count": 48,
   "metadata": {},
   "outputs": [
    {
     "data": {
      "text/plain": [
       "'Dallas'"
      ]
     },
     "execution_count": 48,
     "metadata": {},
     "output_type": "execute_result"
    }
   ],
   "source": [
    "dallas.name"
   ]
  },
  {
   "cell_type": "code",
   "execution_count": 49,
   "metadata": {},
   "outputs": [
    {
     "name": "stdout",
     "output_type": "stream",
     "text": [
      "<__main__.City object at 0x110f14438> Toronto 138\n",
      "<__main__.City object at 0x110f14fd0> Louisville 342\n"
     ]
    }
   ],
   "source": [
    "for route,price in dallas.routes.items():\n",
    "    print(route, route.name, price)"
   ]
  },
  {
   "cell_type": "markdown",
   "metadata": {},
   "source": [
    "## Dijkstra's Algorithm"
   ]
  },
  {
   "cell_type": "markdown",
   "metadata": {},
   "source": [
    "Here are the rules for Dijkstra's Algorithm:\n",
    "\n",
    "1. We make the starting vertex our current vertex.\n",
    "2. We check all the vertices adjacent to the current vertex and calculate and record the weights from the starting vertex to all known locations.\n",
    "3. To determine the next current vertex, we find the _cheapest unvisited_ known vertex tht can be reached from our starting index.\n",
    "4. Repeat the first three steps until we have visited every vertex in the graph.\n",
    "\n",
    "<img src=\"imgs/graphs_second_half_Part10.png\" style=\"width: 375px;\">"
   ]
  },
  {
   "cell_type": "markdown",
   "metadata": {},
   "source": [
    "To record the cheapest price of the routes from Atlanta to other cities, we will use a table as follows:\n",
    "\n",
    "| .       | Boston | Chicago | Denver | El Paso |\n",
    "|---------|--------|---------|--------|---------|\n",
    "| Atlanta | \\?     | \\?      | \\?     | \\?      |\n",
    "\n",
    "First we make the starting vertex (Atlanta) the current index.\n",
    "\n",
    "Next we check all adjacent vertices and record the weights from the starting vertex (Atlanta) to all know locations. We can see right away that Atlanta -> Boston is \\\\$100 and Atlanta -> Denver is \\\\$160.\n",
    "\n",
    "<img src=\"imgs/graphs_second_half_Part11.png\" style=\"width: 375px;\">\n",
    "\n",
    "| .       | Boston | Chicago | Denver | El Paso |\n",
    "|---------|--------|---------|--------|---------|\n",
    "| Atlanta | \\\\$100 | \\?      | \\\\$160 | \\?      |\n",
    "\n",
    "Next, we find the cheapest vertex that can be reached from Atlanta that has not yet been visited. We only know how to get to Boston and Denver from at Atlanta at this point, and it's cheaper to get to Boston (\\\\$100) than it is to Denver (\\\\$160). So we make Boston our current vertex.\n",
    "\n",
    "<img src=\"imgs/graphs_second_half_Part12.png\" style=\"width: 375px;\">\n",
    "\n",
    "We now check both routes from Boston, and record all new data about the cost of the routes _**from Atlanta**_--the starting vertex--to all known locations. Boston -> Chicago is \\\\$120. Since Atlanta -> Boston is \\\\$100 and Boston -> Chicago is \\\\$120, the cheapest (and only) known route from Atlanta -> Chicago is \\\\$220 (Atlanta -> Boston -> Chicago, \\\\$100 + \\\\$120).\n",
    "\n",
    "| .       | Boston | Chicago | Denver | El Paso |\n",
    "|---------|--------|---------|--------|---------|\n",
    "| Atlanta | \\\\$100 | \\\\$220  | \\\\$160 | \\?      |\n",
    "\n",
    "We also look at Boston's other route, which is Denver, and that's \\\\$180. Now we see a new route from Atlanta to Denver: Atlanta > Boston > Denver. This new route to Denver is \\\\$280, but it's not cheaper than the \\\\$160 we've already recorded in the table, so we don't update the table.\n",
    "\n",
    "We've explored all outgoing routes from the current vertex (Boston), we next look for the unvisited vertex that is cheapest to reach from Atlanta. Boston is cheapest, but visited. Denver is next cheapest (Chicago is \\\\$220), and unvisited. So we make Denver our current vertex.\n",
    "\n",
    "<img src=\"imgs/graphs_second_half_Part13.png\" style=\"width: 375px;\">\n",
    "\n",
    "We now inspect the routes that leave Denver. Denver -> Chicago is \\\\$40. We can update our table since we now have a cheaper path from Atlanta to Chicago. The table shows \\\\$220 Atlanta -> Chicago, but Atlanta -> Denver -> Chicago is \\\\$200. So we update the table.\n",
    "\n",
    "| .       | Boston | Chicago | Denver | El Paso |\n",
    "|---------|--------|---------|--------|---------|\n",
    "| Atlanta | \\\\$100 | \\\\$200  | \\\\$160 | \\?      |\n",
    "\n",
    "There's a new city revealed by a flight out of Denver: El Paso. The cheapest path to El Paso would be \\\\$300 Atlanta -> Denver -> El Paso. We can add this to the table.\n",
    "\n",
    "| .       | Boston | Chicago | Denver | El Paso |\n",
    "|---------|--------|---------|--------|---------|\n",
    "| Atlanta | \\\\$100 | \\\\$200  | \\\\$160 | \\\\$300  |\n",
    "\n",
    "There are now two unvisited vertices: Chicago and El Paso. Since Atlanta -> Chicago (\\\\$200) is cheaper than Atlanta -> El Paso (\\\\$300), Chicago becomes the current vertex. \n",
    "\n",
    "<img src=\"imgs/graphs_second_half_Part14.png\" style=\"width: 375px;\">\n",
    "\n",
    "The Chicago vertex has just one outbound flight (to El Paso) and we now have a new route from Atlanta -> El Paso, and this new route (Atlanta -> Denver -> Chicago -> El Paso, \\\\$280) is cheaper than the \\\\$300 route we have in our table. So we update the table.\n",
    "\n",
    "| .       | Boston | Chicago | Denver | El Paso |\n",
    "|---------|--------|---------|--------|---------|\n",
    "| Atlanta | \\\\$100 | \\\\$200  | \\\\$160 | \\\\$280  |\n",
    "\n",
    "There's only one known city left to make the current vertex: El Paso.\n",
    "\n",
    "<img src=\"imgs/graphs_second_half_Part15.png\" style=\"width: 375px;\">\n",
    "\n",
    "El Paso has only one outbound route, and that is a $100 flight to Boston. This route doesn't reveal any cheaper routes from Atlanta to anywhere, so we don't need to modify the table.\n",
    "\n",
    "Since we've visited every vertex and checked it off, we now know every path from Atlanta to every other city. The algorithm is now complete, and our resulting table reveals the cheapest price of Atlanta to every other city on the map.\n",
    "\n",
    "| .       | Boston | Chicago | Denver | El Paso |\n",
    "|---------|--------|---------|--------|---------|\n",
    "| Atlanta | \\\\$100 | \\\\$200  | \\\\$160 | \\\\$280  |"
   ]
  },
  {
   "cell_type": "code",
   "execution_count": 50,
   "metadata": {},
   "outputs": [],
   "source": [
    "class City:\n",
    "    def __init__(self, init_name):\n",
    "        self.name = init_name\n",
    "        # for adjacent nodes, we're now using a hash table\n",
    "        self.routes = {}\n",
    "        # for example, if this were Atlanta, its routes would be\n",
    "        # {boston:100, denver:160}\n",
    "    \n",
    "    def add_route(self, city, price_info):\n",
    "        self.routes[city] = price_info"
   ]
  },
  {
   "cell_type": "code",
   "execution_count": 51,
   "metadata": {},
   "outputs": [],
   "source": [
    "atlanta = City('Atlanta')\n",
    "boston  = City('Boston')\n",
    "chicago = City('Chicago')\n",
    "denver  = City('Denver')\n",
    "el_paso = City('El Paso')"
   ]
  },
  {
   "cell_type": "code",
   "execution_count": 52,
   "metadata": {},
   "outputs": [],
   "source": [
    "atlanta.add_route(boston, 100)\n",
    "atlanta.add_route(denver, 160)\n",
    "boston.add_route(chicago, 120)\n",
    "boston.add_route(denver, 180)\n",
    "chicago.add_route(el_paso, 80)\n",
    "denver.add_route(chicago, 40)\n",
    "denver.add_route(el_paso, 140)\n",
    "el_paso.add_route(boston, 100)"
   ]
  },
  {
   "cell_type": "code",
   "execution_count": 53,
   "metadata": {},
   "outputs": [],
   "source": [
    "def dijkstra(starting_city, other_cities):\n",
    "    # `routes_from_city` hash table below holds the data of \n",
    "    # all `price_info`s from the given city to all other\n",
    "    # destinations, and the city which took to get there\n",
    "    routes_from_city = {}\n",
    "    # the format of this data is:\n",
    "    # {city: [price, other city which immediately precedes this\n",
    "    #  city along the path from the original city]}\n",
    "    \n",
    "    # in our example this will end up being:\n",
    "    # {atlanta: [0, None],\n",
    "    #  boston:  [100, atlanta],\n",
    "    #  chicago: [200, denver],\n",
    "    #  denver:  [160, atlanta],\n",
    "    #  el_paso: [180, chicago]}\n",
    "    \n",
    "    # since it costs nothing to get to the starting city\n",
    "    # from the starting city:\n",
    "    routes_from_city[starting_city] = [0, starting_city]\n",
    "    \n",
    "    # when initializing our data, we set up all other cities\n",
    "    # having an infinite cost... since the cost and the path to\n",
    "    # get to each other city is currently unknown:\n",
    "    for city in other_cities:\n",
    "        routes_from_city[city] = [float('inf'), None]\n",
    "    \n",
    "    # in our example, the routes_from_city starts out as:\n",
    "    # {atlanta: [0, atlanta],\n",
    "    #  boston:  [inf, None],\n",
    "    #  chicago: [inf, None],\n",
    "    #  denver:  [inf, None],\n",
    "    #  el_paso: [inf, None]}\n",
    "    \n",
    "    # we keep track of visited cities in this array\n",
    "    visited_cities = []\n",
    "    \n",
    "    # we begin visiting the starting city by makeing it the\n",
    "    # current_city\n",
    "    current_city = starting_city\n",
    "    \n",
    "    # we launch the heart of the algorithm, which is a loop\n",
    "    # that visits each city\n",
    "    while current_city != None:\n",
    "        \n",
    "        # we officially visit the current city\n",
    "        visited_cities.append(current_city)\n",
    "        \n",
    "        # we check each route from the current city\n",
    "        for city,price_info in current_city.routes.items():\n",
    "            # if the route from starting_city to the other city\n",
    "            # is cheaper than currently recorded in \n",
    "            # routes_from_city, we update it\n",
    "            if routes_from_city[city][0] >\\\n",
    "            price_info + routes_from_city[current_city][0]:\n",
    "                routes_from_city[city] =\\\n",
    "                [price_info + routes_from_city[current_city][0], \n",
    "                 current_city]\n",
    "        \n",
    "        # determine which city to visit next\n",
    "        current_city = None\n",
    "        cheapest_route_from_current_city = float('inf')\n",
    "        # check all available routes\n",
    "        for city,price_info in routes_from_city.items():\n",
    "            # if this route is the cheapest from this city, and\n",
    "            # it hasn't yet been visited, it should be marked as\n",
    "            # the city we'll visit next\n",
    "            if price_info[0] <\\\n",
    "            cheapest_route_from_current_city and\\\n",
    "            city not in visited_cities:\n",
    "                cheapest_route_from_current_city = price_info[0]\n",
    "                current_city = city\n",
    "        \n",
    "    return routes_from_city\n",
    "            "
   ]
  },
  {
   "cell_type": "code",
   "execution_count": 54,
   "metadata": {},
   "outputs": [
    {
     "name": "stdout",
     "output_type": "stream",
     "text": [
      "Atlanta 0\n",
      "Boston 100\n",
      "Chicago 200\n",
      "Denver 160\n",
      "El Paso 280\n"
     ]
    }
   ],
   "source": [
    "routes = dijkstra(atlanta, [boston, chicago, denver, el_paso])\n",
    "for city,price_info in routes.items():\n",
    "    print(city.name, price_info[0])"
   ]
  },
  {
   "cell_type": "code",
   "execution_count": null,
   "metadata": {},
   "outputs": [],
   "source": []
  }
 ],
 "metadata": {
  "kernelspec": {
   "display_name": "Python 3",
   "language": "python",
   "name": "python3"
  },
  "language_info": {
   "codemirror_mode": {
    "name": "ipython",
    "version": 3
   },
   "file_extension": ".py",
   "mimetype": "text/x-python",
   "name": "python",
   "nbconvert_exporter": "python",
   "pygments_lexer": "ipython3",
   "version": "3.7.1"
  }
 },
 "nbformat": 4,
 "nbformat_minor": 2
}
