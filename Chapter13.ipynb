{
 "cells": [
  {
   "cell_type": "markdown",
   "metadata": {},
   "source": [
    "# Chapter 13 - Connecting Everything with Graphs"
   ]
  },
  {
   "cell_type": "markdown",
   "metadata": {},
   "source": [
    "## Graphs"
   ]
  },
  {
   "cell_type": "markdown",
   "metadata": {},
   "source": [
    "Here's an non-directed graph (like Facebook friends).\n",
    "\n",
    "<img src=\"imgs/graphs_Part1.png\">\n",
    "\n",
    "Here's a directed graph (like Twitter follows).\n",
    "\n",
    "<img src=\"imgs/graphs_Part2.png\">\n",
    "\n",
    "Hash tables are one of the simplest ways to implement a graph."
   ]
  },
  {
   "cell_type": "code",
   "execution_count": 1,
   "metadata": {},
   "outputs": [],
   "source": [
    "# non-directed graph hash table (like Facebook friends)\n",
    "friends = {\n",
    "    'Alice'   : ['Bob', 'Diana', 'Fred'],\n",
    "    'Bob'     : ['Alice', 'Cynthia', 'Diana'],\n",
    "    'Cynthia' : ['Bob'],\n",
    "    'Diana'   : ['Alice', 'Bob', 'Fred'],\n",
    "    'Elise'   : ['Fred'],\n",
    "    'Fred'    : ['Alice', 'Diana', 'Elise']\n",
    "}"
   ]
  },
  {
   "cell_type": "markdown",
   "metadata": {},
   "source": [
    "We can look up a person's friends with $O(1)$ efficiency."
   ]
  },
  {
   "cell_type": "code",
   "execution_count": 2,
   "metadata": {},
   "outputs": [
    {
     "data": {
      "text/plain": [
       "['Bob', 'Diana', 'Fred']"
      ]
     },
     "execution_count": 2,
     "metadata": {},
     "output_type": "execute_result"
    }
   ],
   "source": [
    "friends['Alice']"
   ]
  },
  {
   "cell_type": "code",
   "execution_count": 3,
   "metadata": {},
   "outputs": [],
   "source": [
    "# directed graph hash table (like Twitter follows)\n",
    "followees = {\n",
    "    'Alice'   : ['Bob', 'Cynthia'],\n",
    "    'Bob'     : ['Cynthia'],\n",
    "    'Cynthia' : ['Bob']\n",
    "}"
   ]
  },
  {
   "cell_type": "code",
   "execution_count": 4,
   "metadata": {},
   "outputs": [
    {
     "data": {
      "text/plain": [
       "['Bob']"
      ]
     },
     "execution_count": 4,
     "metadata": {},
     "output_type": "execute_result"
    }
   ],
   "source": [
    "followees['Cynthia']"
   ]
  },
  {
   "cell_type": "code",
   "execution_count": 5,
   "metadata": {},
   "outputs": [],
   "source": [
    "class Person:\n",
    "    def __init__(self, init_name):\n",
    "        self.name = init_name\n",
    "        self.friends = []\n",
    "    \n",
    "    def add_friend(self, friend):\n",
    "        self.friends.append(friend)"
   ]
  },
  {
   "cell_type": "code",
   "execution_count": 6,
   "metadata": {},
   "outputs": [],
   "source": [
    "alice = Person('Alice')"
   ]
  },
  {
   "cell_type": "code",
   "execution_count": 7,
   "metadata": {},
   "outputs": [
    {
     "data": {
      "text/plain": [
       "'Alice'"
      ]
     },
     "execution_count": 7,
     "metadata": {},
     "output_type": "execute_result"
    }
   ],
   "source": [
    "alice.name"
   ]
  },
  {
   "cell_type": "code",
   "execution_count": 8,
   "metadata": {},
   "outputs": [],
   "source": [
    "bob = Person('Bob')"
   ]
  },
  {
   "cell_type": "code",
   "execution_count": 9,
   "metadata": {},
   "outputs": [
    {
     "data": {
      "text/plain": [
       "'Bob'"
      ]
     },
     "execution_count": 9,
     "metadata": {},
     "output_type": "execute_result"
    }
   ],
   "source": [
    "bob.name"
   ]
  },
  {
   "cell_type": "code",
   "execution_count": 10,
   "metadata": {},
   "outputs": [],
   "source": [
    "alice.add_friend(bob)"
   ]
  },
  {
   "cell_type": "code",
   "execution_count": 11,
   "metadata": {},
   "outputs": [
    {
     "data": {
      "text/plain": [
       "[<__main__.Person at 0x10a0f6a90>]"
      ]
     },
     "execution_count": 11,
     "metadata": {},
     "output_type": "execute_result"
    }
   ],
   "source": [
    "alice.friends"
   ]
  },
  {
   "cell_type": "code",
   "execution_count": 12,
   "metadata": {},
   "outputs": [
    {
     "data": {
      "text/plain": [
       "1"
      ]
     },
     "execution_count": 12,
     "metadata": {},
     "output_type": "execute_result"
    }
   ],
   "source": [
    "len(alice.friends)"
   ]
  },
  {
   "cell_type": "code",
   "execution_count": 13,
   "metadata": {},
   "outputs": [
    {
     "data": {
      "text/plain": [
       "0"
      ]
     },
     "execution_count": 13,
     "metadata": {},
     "output_type": "execute_result"
    }
   ],
   "source": [
    "len(bob.friends)"
   ]
  },
  {
   "cell_type": "code",
   "execution_count": 14,
   "metadata": {},
   "outputs": [
    {
     "name": "stdout",
     "output_type": "stream",
     "text": [
      "Bob\n"
     ]
    }
   ],
   "source": [
    "for f in alice.friends:\n",
    "    print(f.name)\n",
    "    if len(f.friends) > 0:\n",
    "        for sub_f in f.friends:\n",
    "            print(sub_f.name)"
   ]
  },
  {
   "cell_type": "markdown",
   "metadata": {},
   "source": [
    "## Breadth-First Search"
   ]
  },
  {
   "cell_type": "markdown",
   "metadata": {},
   "source": [
    "<img src=\"imgs/graphs_Part5.png\">"
   ]
  },
  {
   "cell_type": "code",
   "execution_count": 15,
   "metadata": {},
   "outputs": [],
   "source": [
    "class Person:\n",
    "    def __init__(self, init_name):\n",
    "        self.name = init_name\n",
    "        self.friends = []\n",
    "        self.visited = False\n",
    "    \n",
    "    def add_friend(self, friend):\n",
    "        self.friends.append(friend)\n",
    "    \n",
    "    def display_network(self):\n",
    "        # we keep track of every node we ever visit, so we can\n",
    "        # reset their 'visited' attribute back to false after\n",
    "        # our algoritm is complete\n",
    "        to_reset = [self]\n",
    "        \n",
    "        # create the queue\n",
    "        # it starts out containing the root vertex\n",
    "        queue = [self]\n",
    "        self.visited = True\n",
    "        \n",
    "        while len(queue) != 0:\n",
    "            # the current vertex is whatever is \n",
    "            # removed from the queue\n",
    "            current_vertex = queue.pop(0)\n",
    "            print(current_vertex.name)\n",
    "            #for q in queue:\n",
    "            #    print(\" \", q.name, end = '')\n",
    "            #print()\n",
    "            \n",
    "            # we add all adjacent vertices of the current vertex\n",
    "            # to the queue\n",
    "            for friend in current_vertex.friends:\n",
    "                if friend.visited == False:\n",
    "                    to_reset.append(friend)\n",
    "                    queue.append(friend)\n",
    "                    friend.visited = True\n",
    "                    \n",
    "        for node in to_reset:\n",
    "            node.visited = False"
   ]
  },
  {
   "cell_type": "code",
   "execution_count": 16,
   "metadata": {},
   "outputs": [],
   "source": [
    "# create Persons\n",
    "alice  = Person('Alice')\n",
    "bob    = Person('Bob')\n",
    "candy  = Person('Candy')\n",
    "derek  = Person('Derek')\n",
    "elaine = Person('Elaine')\n",
    "fred   = Person('Fred')\n",
    "gina   = Person('Gina')\n",
    "helen  = Person('Helen')\n",
    "irena  = Person('Irena')"
   ]
  },
  {
   "cell_type": "code",
   "execution_count": 17,
   "metadata": {},
   "outputs": [],
   "source": [
    "# add Alice's friends\n",
    "alice.add_friend(bob)\n",
    "alice.add_friend(candy)\n",
    "alice.add_friend(derek)\n",
    "alice.add_friend(elaine)"
   ]
  },
  {
   "cell_type": "code",
   "execution_count": 18,
   "metadata": {},
   "outputs": [],
   "source": [
    "# add Bob's friends\n",
    "bob.add_friend(alice)\n",
    "bob.add_friend(fred)\n",
    "#bob.add_friend(irena)"
   ]
  },
  {
   "cell_type": "code",
   "execution_count": 19,
   "metadata": {},
   "outputs": [],
   "source": [
    "# add Candy's friends\n",
    "candy.add_friend(alice)"
   ]
  },
  {
   "cell_type": "code",
   "execution_count": 20,
   "metadata": {},
   "outputs": [],
   "source": [
    "# add Derek's friends\n",
    "derek.add_friend(alice)\n",
    "derek.add_friend(gina)\n",
    "#derek.add_friend(helen)"
   ]
  },
  {
   "cell_type": "code",
   "execution_count": 21,
   "metadata": {},
   "outputs": [],
   "source": [
    "# add Elaine's friends\n",
    "elaine.add_friend(alice)"
   ]
  },
  {
   "cell_type": "code",
   "execution_count": 22,
   "metadata": {},
   "outputs": [],
   "source": [
    "# add Fred's friends\n",
    "fred.add_friend(bob)\n",
    "fred.add_friend(helen)"
   ]
  },
  {
   "cell_type": "code",
   "execution_count": 23,
   "metadata": {},
   "outputs": [],
   "source": [
    "# add Gina's friends\n",
    "gina.add_friend(derek)\n",
    "gina.add_friend(irena)"
   ]
  },
  {
   "cell_type": "code",
   "execution_count": 24,
   "metadata": {},
   "outputs": [],
   "source": [
    "# add Helen's friends\n",
    "helen.add_friend(fred)"
   ]
  },
  {
   "cell_type": "code",
   "execution_count": 25,
   "metadata": {},
   "outputs": [],
   "source": [
    "# add Irena's friends\n",
    "irena.add_friend(gina)"
   ]
  },
  {
   "cell_type": "code",
   "execution_count": 26,
   "metadata": {},
   "outputs": [
    {
     "data": {
      "text/plain": [
       "'Alice'"
      ]
     },
     "execution_count": 26,
     "metadata": {},
     "output_type": "execute_result"
    }
   ],
   "source": [
    "alice.name"
   ]
  },
  {
   "cell_type": "code",
   "execution_count": 27,
   "metadata": {},
   "outputs": [
    {
     "data": {
      "text/plain": [
       "[<__main__.Person at 0x10a119860>,\n",
       " <__main__.Person at 0x10a0f69e8>,\n",
       " <__main__.Person at 0x10a119780>,\n",
       " <__main__.Person at 0x10a1197b8>]"
      ]
     },
     "execution_count": 27,
     "metadata": {},
     "output_type": "execute_result"
    }
   ],
   "source": [
    "alice.friends"
   ]
  },
  {
   "cell_type": "code",
   "execution_count": 28,
   "metadata": {},
   "outputs": [
    {
     "name": "stdout",
     "output_type": "stream",
     "text": [
      "Bob\n",
      "Candy\n",
      "Derek\n",
      "Elaine\n"
     ]
    }
   ],
   "source": [
    "for friend in alice.friends:\n",
    "    print(friend.name)"
   ]
  },
  {
   "cell_type": "code",
   "execution_count": 29,
   "metadata": {},
   "outputs": [
    {
     "data": {
      "text/plain": [
       "False"
      ]
     },
     "execution_count": 29,
     "metadata": {},
     "output_type": "execute_result"
    }
   ],
   "source": [
    "alice.visited"
   ]
  },
  {
   "cell_type": "code",
   "execution_count": 30,
   "metadata": {},
   "outputs": [
    {
     "name": "stdout",
     "output_type": "stream",
     "text": [
      "Alice\n",
      "Fred\n"
     ]
    }
   ],
   "source": [
    "for friend in bob.friends:\n",
    "    print(friend.name)"
   ]
  },
  {
   "cell_type": "code",
   "execution_count": 31,
   "metadata": {},
   "outputs": [
    {
     "name": "stdout",
     "output_type": "stream",
     "text": [
      "Alice\n",
      "Bob\n",
      "Candy\n",
      "Derek\n",
      "Elaine\n",
      "Fred\n",
      "Gina\n",
      "Helen\n",
      "Irena\n"
     ]
    }
   ],
   "source": [
    "alice.display_network()"
   ]
  },
  {
   "cell_type": "code",
   "execution_count": 32,
   "metadata": {},
   "outputs": [
    {
     "name": "stdout",
     "output_type": "stream",
     "text": [
      "Bob\n",
      "Alice\n",
      "Fred\n",
      "Candy\n",
      "Derek\n",
      "Elaine\n",
      "Helen\n",
      "Gina\n",
      "Irena\n"
     ]
    }
   ],
   "source": [
    "bob.display_network()"
   ]
  },
  {
   "cell_type": "code",
   "execution_count": 33,
   "metadata": {},
   "outputs": [
    {
     "name": "stdout",
     "output_type": "stream",
     "text": [
      "Candy\n",
      "Alice\n",
      "Bob\n",
      "Derek\n",
      "Elaine\n",
      "Fred\n",
      "Gina\n",
      "Helen\n",
      "Irena\n"
     ]
    }
   ],
   "source": [
    "candy.display_network()"
   ]
  },
  {
   "cell_type": "code",
   "execution_count": 34,
   "metadata": {},
   "outputs": [
    {
     "name": "stdout",
     "output_type": "stream",
     "text": [
      "Derek\n",
      "Alice\n",
      "Gina\n",
      "Bob\n",
      "Candy\n",
      "Elaine\n",
      "Irena\n",
      "Fred\n",
      "Helen\n"
     ]
    }
   ],
   "source": [
    "derek.display_network()"
   ]
  },
  {
   "cell_type": "markdown",
   "metadata": {},
   "source": [
    "The efficiency of breadth-first search in our graph can be calculated by breaking down the algorithm's steps into two types:\n",
    "\n",
    "* We remove the vertex from the queue to designate it as the current vertex.\n",
    "* For each current vertex, we visit each of its adjacent vertices.\n",
    "\n",
    "Each vertex is removed from the queue once. That's called $O(V)$ in Big O notation.\n",
    "\n",
    "The number of times we visit adjacent vertices for each vertex is 2 times. So each edge gets used twice. That's $O(2E)$ => $O(E)$.\n",
    "\n",
    "So, the breadth-first search has an efficiency of $O(V + E)$."
   ]
  },
  {
   "cell_type": "code",
   "execution_count": 35,
   "metadata": {},
   "outputs": [],
   "source": [
    "class Person:\n",
    "    def __init__(self, init_name):\n",
    "        self.name = init_name\n",
    "        self.friends = []\n",
    "        self.visited = False\n",
    "    \n",
    "    def add_friend(self, friend):\n",
    "        self.friends.append(friend)\n",
    "    \n",
    "    def display_network(self):\n",
    "        # we keep track of every node we ever visit, so we can\n",
    "        # reset their 'visited' attribute back to false after\n",
    "        # our algoritm is complete\n",
    "        to_reset = [self]\n",
    "        \n",
    "        # create the queue\n",
    "        # it starts out containing the root vertex\n",
    "        queue = [self]\n",
    "        self.visited = True\n",
    "        \n",
    "        while len(queue) != 0:\n",
    "            # the current vertex is whatever is \n",
    "            # removed from the queue\n",
    "            current_vertex = queue.pop(0)\n",
    "            print(current_vertex.name)\n",
    "            #for q in queue:\n",
    "            #    print(\" \", q.name, end = '')\n",
    "            #print()\n",
    "            \n",
    "            # we add all adjacent vertices of the current vertex\n",
    "            # to the queue\n",
    "            for friend in current_vertex.friends:\n",
    "                if friend.visited == False:\n",
    "                    to_reset.append(friend)\n",
    "                    queue.append(friend)\n",
    "                    friend.visited = True\n",
    "                    \n",
    "        for node in to_reset:\n",
    "            node.visited = False\n",
    "\n",
    "    def display_network_depth(self, depth):\n",
    "        \n",
    "        # current_vertex = self\n",
    "        \n",
    "        if depth > 0:\n",
    "            for friend in self.friends:\n",
    "                print(friend.name)\n",
    "                friend.display_network_depth(depth - 1)\n",
    "            "
   ]
  },
  {
   "cell_type": "code",
   "execution_count": 36,
   "metadata": {},
   "outputs": [],
   "source": [
    "# create Persons\n",
    "alice  = Person('Alice')\n",
    "bob    = Person('Bob')\n",
    "candy  = Person('Candy')\n",
    "derek  = Person('Derek')\n",
    "elaine = Person('Elaine')\n",
    "fred   = Person('Fred')\n",
    "gina   = Person('Gina')\n",
    "helen  = Person('Helen')\n",
    "irena  = Person('Irena')"
   ]
  },
  {
   "cell_type": "code",
   "execution_count": 37,
   "metadata": {},
   "outputs": [],
   "source": [
    "# add Alice's friends\n",
    "alice.add_friend(bob)\n",
    "alice.add_friend(candy)\n",
    "alice.add_friend(derek)\n",
    "alice.add_friend(elaine)\n",
    "\n",
    "# add Bob's friends\n",
    "bob.add_friend(alice)\n",
    "bob.add_friend(fred)\n",
    "\n",
    "# add Candy's friends\n",
    "candy.add_friend(alice)\n",
    "\n",
    "# add Derek's friends\n",
    "derek.add_friend(alice)\n",
    "derek.add_friend(gina)\n",
    "\n",
    "# add Elaine's friends\n",
    "elaine.add_friend(alice)\n",
    "\n",
    "# add Fred's friends\n",
    "fred.add_friend(bob)\n",
    "fred.add_friend(helen)\n",
    "\n",
    "# add Gina's friends\n",
    "gina.add_friend(derek)\n",
    "gina.add_friend(irena)\n",
    "\n",
    "# add Helen's friends\n",
    "helen.add_friend(fred)\n",
    "\n",
    "# add Irena's friends\n",
    "irena.add_friend(gina)"
   ]
  },
  {
   "cell_type": "code",
   "execution_count": 38,
   "metadata": {},
   "outputs": [
    {
     "name": "stdout",
     "output_type": "stream",
     "text": [
      "Bob\n",
      "Candy\n",
      "Derek\n",
      "Elaine\n"
     ]
    }
   ],
   "source": [
    "alice.display_network_depth(1)"
   ]
  },
  {
   "cell_type": "code",
   "execution_count": 39,
   "metadata": {},
   "outputs": [
    {
     "name": "stdout",
     "output_type": "stream",
     "text": [
      "Alice\n",
      "Fred\n"
     ]
    }
   ],
   "source": [
    "bob.display_network_depth(1)"
   ]
  },
  {
   "cell_type": "code",
   "execution_count": 40,
   "metadata": {},
   "outputs": [
    {
     "name": "stdout",
     "output_type": "stream",
     "text": [
      "Bob\n",
      "Alice\n",
      "Fred\n",
      "Candy\n",
      "Alice\n",
      "Derek\n",
      "Alice\n",
      "Gina\n",
      "Elaine\n",
      "Alice\n"
     ]
    }
   ],
   "source": [
    "alice.display_network_depth(2)"
   ]
  },
  {
   "cell_type": "markdown",
   "metadata": {},
   "source": [
    "Come back to this at a later time. The point now is to do a survey of basic data structures / algorithms."
   ]
  },
  {
   "cell_type": "markdown",
   "metadata": {},
   "source": [
    "## Weighted Graphs"
   ]
  },
  {
   "cell_type": "code",
   "execution_count": 41,
   "metadata": {},
   "outputs": [],
   "source": [
    "class City:\n",
    "    def __init__(self, init_name):\n",
    "        self.name = init_name\n",
    "        self.routes = {} # hash table instead of array\n",
    "    \n",
    "    def add_route(self, city, price):\n",
    "        self.routes[city] = price"
   ]
  },
  {
   "cell_type": "code",
   "execution_count": 42,
   "metadata": {},
   "outputs": [],
   "source": [
    "dallas = City('Dallas')"
   ]
  },
  {
   "cell_type": "code",
   "execution_count": 43,
   "metadata": {},
   "outputs": [],
   "source": [
    "toronto = City('Toronto')"
   ]
  },
  {
   "cell_type": "code",
   "execution_count": 44,
   "metadata": {},
   "outputs": [],
   "source": [
    "louisville = City('Louisville')"
   ]
  },
  {
   "cell_type": "code",
   "execution_count": 45,
   "metadata": {},
   "outputs": [],
   "source": [
    "dallas.add_route(toronto, 138)"
   ]
  },
  {
   "cell_type": "code",
   "execution_count": 46,
   "metadata": {},
   "outputs": [],
   "source": [
    "dallas.add_route(louisville, 342)"
   ]
  },
  {
   "cell_type": "code",
   "execution_count": 47,
   "metadata": {},
   "outputs": [],
   "source": [
    "toronto.add_route(dallas, 216)"
   ]
  },
  {
   "cell_type": "code",
   "execution_count": 48,
   "metadata": {},
   "outputs": [
    {
     "data": {
      "text/plain": [
       "'Dallas'"
      ]
     },
     "execution_count": 48,
     "metadata": {},
     "output_type": "execute_result"
    }
   ],
   "source": [
    "dallas.name"
   ]
  },
  {
   "cell_type": "code",
   "execution_count": 49,
   "metadata": {},
   "outputs": [
    {
     "name": "stdout",
     "output_type": "stream",
     "text": [
      "<__main__.City object at 0x10a119c18> Toronto 138\n",
      "<__main__.City object at 0x10a119b00> Louisville 342\n"
     ]
    }
   ],
   "source": [
    "for route,price in dallas.routes.items():\n",
    "    print(route, route.name, price)"
   ]
  },
  {
   "cell_type": "markdown",
   "metadata": {},
   "source": [
    "## Dijkstra's Algorithm"
   ]
  },
  {
   "cell_type": "code",
   "execution_count": null,
   "metadata": {},
   "outputs": [],
   "source": []
  }
 ],
 "metadata": {
  "kernelspec": {
   "display_name": "Python 3",
   "language": "python",
   "name": "python3"
  },
  "language_info": {
   "codemirror_mode": {
    "name": "ipython",
    "version": 3
   },
   "file_extension": ".py",
   "mimetype": "text/x-python",
   "name": "python",
   "nbconvert_exporter": "python",
   "pygments_lexer": "ipython3",
   "version": "3.7.1"
  }
 },
 "nbformat": 4,
 "nbformat_minor": 2
}
